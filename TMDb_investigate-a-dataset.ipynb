{
 "cells": [
  {
   "cell_type": "markdown",
   "metadata": {},
   "source": [
    "# Project: Investigate a Dataset (TMDb movie data)\n",
    "\n",
    "## Table of Contents\n",
    "<ul>\n",
    "<li><a href=\"#intro\">Introduction</a></li>\n",
    "<li><a href=\"#wrangling\">Data Wrangling</a></li>\n",
    "<li><a href=\"#eda\">Exploratory Data Analysis</a></li>\n",
    "<li><a href=\"#conclusions\">Conclusions</a></li>\n",
    "</ul>"
   ]
  },
  {
   "cell_type": "markdown",
   "metadata": {},
   "source": [
    "<a id='intro'></a>\n",
    "## Introduction\n",
    "\n",
    "The analyses is done on the TMDb data that has data for 10,866 movies. The data set captures information around popularity, budget, revenue, cast, director, producers, release, and rating of all these movies. Earliest movie the dataset has is from 1960 until 2015. Our data set has x numeric and y categorical values. \n",
    "\n",
    "As part of this analyses report, we are trying to get some questions answered regarding the data like:\n",
    "\n",
    "- What type of movies have typically returned the highest revenue?\n",
    "- Does these movies with high revenue also have high rating?\n",
    "- How has the trend for number of movies released and movie popularity changed over years?"
   ]
  },
  {
   "cell_type": "code",
   "execution_count": 2,
   "metadata": {},
   "outputs": [],
   "source": [
    "# Setting up import statements for all of the packages required\n",
    "\n",
    "import numpy as np \n",
    "import pandas as pd\n",
    "import matplotlib.pyplot as plt\n",
    "from matplotlib.pyplot import figure\n",
    "import seaborn as sns\n",
    "%matplotlib inline"
   ]
  },
  {
   "cell_type": "markdown",
   "metadata": {},
   "source": [
    "<a id='wrangling'></a>\n",
    "## Data Wrangling\n",
    "\n",
    "In this section, we are:\n",
    "\n",
    "- Loading the data from tmdb-movies.csv file\n",
    "- Exploring the structure of the dataset and the data itself\n",
    "- Cleaning the dataset and preparing it for analysis"
   ]
  },
  {
   "cell_type": "markdown",
   "metadata": {},
   "source": [
    "### Loading the dataframe and exploring the structure of the dataset"
   ]
  },
  {
   "cell_type": "code",
   "execution_count": 3,
   "metadata": {},
   "outputs": [
    {
     "data": {
      "text/html": [
       "<div>\n",
       "<style scoped>\n",
       "    .dataframe tbody tr th:only-of-type {\n",
       "        vertical-align: middle;\n",
       "    }\n",
       "\n",
       "    .dataframe tbody tr th {\n",
       "        vertical-align: top;\n",
       "    }\n",
       "\n",
       "    .dataframe thead th {\n",
       "        text-align: right;\n",
       "    }\n",
       "</style>\n",
       "<table border=\"1\" class=\"dataframe\">\n",
       "  <thead>\n",
       "    <tr style=\"text-align: right;\">\n",
       "      <th></th>\n",
       "      <th>id</th>\n",
       "      <th>imdb_id</th>\n",
       "      <th>popularity</th>\n",
       "      <th>budget</th>\n",
       "      <th>revenue</th>\n",
       "      <th>original_title</th>\n",
       "      <th>cast</th>\n",
       "      <th>homepage</th>\n",
       "      <th>director</th>\n",
       "      <th>tagline</th>\n",
       "      <th>...</th>\n",
       "      <th>overview</th>\n",
       "      <th>runtime</th>\n",
       "      <th>genres</th>\n",
       "      <th>production_companies</th>\n",
       "      <th>release_date</th>\n",
       "      <th>vote_count</th>\n",
       "      <th>vote_average</th>\n",
       "      <th>release_year</th>\n",
       "      <th>budget_adj</th>\n",
       "      <th>revenue_adj</th>\n",
       "    </tr>\n",
       "  </thead>\n",
       "  <tbody>\n",
       "    <tr>\n",
       "      <th>0</th>\n",
       "      <td>135397</td>\n",
       "      <td>tt0369610</td>\n",
       "      <td>32.985763</td>\n",
       "      <td>150000000</td>\n",
       "      <td>1513528810</td>\n",
       "      <td>Jurassic World</td>\n",
       "      <td>Chris Pratt|Bryce Dallas Howard|Irrfan Khan|Vi...</td>\n",
       "      <td>http://www.jurassicworld.com/</td>\n",
       "      <td>Colin Trevorrow</td>\n",
       "      <td>The park is open.</td>\n",
       "      <td>...</td>\n",
       "      <td>Twenty-two years after the events of Jurassic ...</td>\n",
       "      <td>124</td>\n",
       "      <td>Action|Adventure|Science Fiction|Thriller</td>\n",
       "      <td>Universal Studios|Amblin Entertainment|Legenda...</td>\n",
       "      <td>6/9/15</td>\n",
       "      <td>5562</td>\n",
       "      <td>6.5</td>\n",
       "      <td>2015</td>\n",
       "      <td>1.379999e+08</td>\n",
       "      <td>1.392446e+09</td>\n",
       "    </tr>\n",
       "  </tbody>\n",
       "</table>\n",
       "<p>1 rows × 21 columns</p>\n",
       "</div>"
      ],
      "text/plain": [
       "       id    imdb_id  popularity     budget     revenue  original_title  \\\n",
       "0  135397  tt0369610   32.985763  150000000  1513528810  Jurassic World   \n",
       "\n",
       "                                                cast  \\\n",
       "0  Chris Pratt|Bryce Dallas Howard|Irrfan Khan|Vi...   \n",
       "\n",
       "                        homepage         director            tagline  ...  \\\n",
       "0  http://www.jurassicworld.com/  Colin Trevorrow  The park is open.  ...   \n",
       "\n",
       "                                            overview runtime  \\\n",
       "0  Twenty-two years after the events of Jurassic ...     124   \n",
       "\n",
       "                                      genres  \\\n",
       "0  Action|Adventure|Science Fiction|Thriller   \n",
       "\n",
       "                                production_companies release_date vote_count  \\\n",
       "0  Universal Studios|Amblin Entertainment|Legenda...       6/9/15       5562   \n",
       "\n",
       "   vote_average  release_year    budget_adj   revenue_adj  \n",
       "0           6.5          2015  1.379999e+08  1.392446e+09  \n",
       "\n",
       "[1 rows x 21 columns]"
      ]
     },
     "execution_count": 3,
     "metadata": {},
     "output_type": "execute_result"
    }
   ],
   "source": [
    "# Loading data and printing out a few lines\n",
    "df = pd.read_csv(\"tmdb-movies.csv\")\n",
    "df.head(1)"
   ]
  },
  {
   "cell_type": "code",
   "execution_count": 4,
   "metadata": {},
   "outputs": [
    {
     "name": "stdout",
     "output_type": "stream",
     "text": [
      "<class 'pandas.core.frame.DataFrame'>\n",
      "RangeIndex: 10866 entries, 0 to 10865\n",
      "Data columns (total 21 columns):\n",
      "id                      10866 non-null int64\n",
      "imdb_id                 10856 non-null object\n",
      "popularity              10866 non-null float64\n",
      "budget                  10866 non-null int64\n",
      "revenue                 10866 non-null int64\n",
      "original_title          10866 non-null object\n",
      "cast                    10790 non-null object\n",
      "homepage                2936 non-null object\n",
      "director                10822 non-null object\n",
      "tagline                 8042 non-null object\n",
      "keywords                9373 non-null object\n",
      "overview                10862 non-null object\n",
      "runtime                 10866 non-null int64\n",
      "genres                  10843 non-null object\n",
      "production_companies    9836 non-null object\n",
      "release_date            10866 non-null object\n",
      "vote_count              10866 non-null int64\n",
      "vote_average            10866 non-null float64\n",
      "release_year            10866 non-null int64\n",
      "budget_adj              10866 non-null float64\n",
      "revenue_adj             10866 non-null float64\n",
      "dtypes: float64(4), int64(6), object(11)\n",
      "memory usage: 1.7+ MB\n"
     ]
    },
    {
     "data": {
      "text/html": [
       "<div>\n",
       "<style scoped>\n",
       "    .dataframe tbody tr th:only-of-type {\n",
       "        vertical-align: middle;\n",
       "    }\n",
       "\n",
       "    .dataframe tbody tr th {\n",
       "        vertical-align: top;\n",
       "    }\n",
       "\n",
       "    .dataframe thead th {\n",
       "        text-align: right;\n",
       "    }\n",
       "</style>\n",
       "<table border=\"1\" class=\"dataframe\">\n",
       "  <thead>\n",
       "    <tr style=\"text-align: right;\">\n",
       "      <th></th>\n",
       "      <th>id</th>\n",
       "      <th>popularity</th>\n",
       "      <th>budget</th>\n",
       "      <th>revenue</th>\n",
       "      <th>runtime</th>\n",
       "      <th>vote_count</th>\n",
       "      <th>vote_average</th>\n",
       "      <th>release_year</th>\n",
       "      <th>budget_adj</th>\n",
       "      <th>revenue_adj</th>\n",
       "    </tr>\n",
       "  </thead>\n",
       "  <tbody>\n",
       "    <tr>\n",
       "      <th>count</th>\n",
       "      <td>10866.000000</td>\n",
       "      <td>10866.000000</td>\n",
       "      <td>1.086600e+04</td>\n",
       "      <td>1.086600e+04</td>\n",
       "      <td>10866.000000</td>\n",
       "      <td>10866.000000</td>\n",
       "      <td>10866.000000</td>\n",
       "      <td>10866.000000</td>\n",
       "      <td>1.086600e+04</td>\n",
       "      <td>1.086600e+04</td>\n",
       "    </tr>\n",
       "    <tr>\n",
       "      <th>mean</th>\n",
       "      <td>66064.177434</td>\n",
       "      <td>0.646441</td>\n",
       "      <td>1.462570e+07</td>\n",
       "      <td>3.982332e+07</td>\n",
       "      <td>102.070863</td>\n",
       "      <td>217.389748</td>\n",
       "      <td>5.974922</td>\n",
       "      <td>2001.322658</td>\n",
       "      <td>1.755104e+07</td>\n",
       "      <td>5.136436e+07</td>\n",
       "    </tr>\n",
       "    <tr>\n",
       "      <th>std</th>\n",
       "      <td>92130.136561</td>\n",
       "      <td>1.000185</td>\n",
       "      <td>3.091321e+07</td>\n",
       "      <td>1.170035e+08</td>\n",
       "      <td>31.381405</td>\n",
       "      <td>575.619058</td>\n",
       "      <td>0.935142</td>\n",
       "      <td>12.812941</td>\n",
       "      <td>3.430616e+07</td>\n",
       "      <td>1.446325e+08</td>\n",
       "    </tr>\n",
       "    <tr>\n",
       "      <th>min</th>\n",
       "      <td>5.000000</td>\n",
       "      <td>0.000065</td>\n",
       "      <td>0.000000e+00</td>\n",
       "      <td>0.000000e+00</td>\n",
       "      <td>0.000000</td>\n",
       "      <td>10.000000</td>\n",
       "      <td>1.500000</td>\n",
       "      <td>1960.000000</td>\n",
       "      <td>0.000000e+00</td>\n",
       "      <td>0.000000e+00</td>\n",
       "    </tr>\n",
       "    <tr>\n",
       "      <th>25%</th>\n",
       "      <td>10596.250000</td>\n",
       "      <td>0.207583</td>\n",
       "      <td>0.000000e+00</td>\n",
       "      <td>0.000000e+00</td>\n",
       "      <td>90.000000</td>\n",
       "      <td>17.000000</td>\n",
       "      <td>5.400000</td>\n",
       "      <td>1995.000000</td>\n",
       "      <td>0.000000e+00</td>\n",
       "      <td>0.000000e+00</td>\n",
       "    </tr>\n",
       "    <tr>\n",
       "      <th>50%</th>\n",
       "      <td>20669.000000</td>\n",
       "      <td>0.383856</td>\n",
       "      <td>0.000000e+00</td>\n",
       "      <td>0.000000e+00</td>\n",
       "      <td>99.000000</td>\n",
       "      <td>38.000000</td>\n",
       "      <td>6.000000</td>\n",
       "      <td>2006.000000</td>\n",
       "      <td>0.000000e+00</td>\n",
       "      <td>0.000000e+00</td>\n",
       "    </tr>\n",
       "    <tr>\n",
       "      <th>75%</th>\n",
       "      <td>75610.000000</td>\n",
       "      <td>0.713817</td>\n",
       "      <td>1.500000e+07</td>\n",
       "      <td>2.400000e+07</td>\n",
       "      <td>111.000000</td>\n",
       "      <td>145.750000</td>\n",
       "      <td>6.600000</td>\n",
       "      <td>2011.000000</td>\n",
       "      <td>2.085325e+07</td>\n",
       "      <td>3.369710e+07</td>\n",
       "    </tr>\n",
       "    <tr>\n",
       "      <th>max</th>\n",
       "      <td>417859.000000</td>\n",
       "      <td>32.985763</td>\n",
       "      <td>4.250000e+08</td>\n",
       "      <td>2.781506e+09</td>\n",
       "      <td>900.000000</td>\n",
       "      <td>9767.000000</td>\n",
       "      <td>9.200000</td>\n",
       "      <td>2015.000000</td>\n",
       "      <td>4.250000e+08</td>\n",
       "      <td>2.827124e+09</td>\n",
       "    </tr>\n",
       "  </tbody>\n",
       "</table>\n",
       "</div>"
      ],
      "text/plain": [
       "                  id    popularity        budget       revenue       runtime  \\\n",
       "count   10866.000000  10866.000000  1.086600e+04  1.086600e+04  10866.000000   \n",
       "mean    66064.177434      0.646441  1.462570e+07  3.982332e+07    102.070863   \n",
       "std     92130.136561      1.000185  3.091321e+07  1.170035e+08     31.381405   \n",
       "min         5.000000      0.000065  0.000000e+00  0.000000e+00      0.000000   \n",
       "25%     10596.250000      0.207583  0.000000e+00  0.000000e+00     90.000000   \n",
       "50%     20669.000000      0.383856  0.000000e+00  0.000000e+00     99.000000   \n",
       "75%     75610.000000      0.713817  1.500000e+07  2.400000e+07    111.000000   \n",
       "max    417859.000000     32.985763  4.250000e+08  2.781506e+09    900.000000   \n",
       "\n",
       "         vote_count  vote_average  release_year    budget_adj   revenue_adj  \n",
       "count  10866.000000  10866.000000  10866.000000  1.086600e+04  1.086600e+04  \n",
       "mean     217.389748      5.974922   2001.322658  1.755104e+07  5.136436e+07  \n",
       "std      575.619058      0.935142     12.812941  3.430616e+07  1.446325e+08  \n",
       "min       10.000000      1.500000   1960.000000  0.000000e+00  0.000000e+00  \n",
       "25%       17.000000      5.400000   1995.000000  0.000000e+00  0.000000e+00  \n",
       "50%       38.000000      6.000000   2006.000000  0.000000e+00  0.000000e+00  \n",
       "75%      145.750000      6.600000   2011.000000  2.085325e+07  3.369710e+07  \n",
       "max     9767.000000      9.200000   2015.000000  4.250000e+08  2.827124e+09  "
      ]
     },
     "execution_count": 4,
     "metadata": {},
     "output_type": "execute_result"
    }
   ],
   "source": [
    "# Exploring the dataset and verifying the number of records and fields\n",
    "df.info()\n",
    "df.describe()"
   ]
  },
  {
   "cell_type": "code",
   "execution_count": 5,
   "metadata": {},
   "outputs": [
    {
     "data": {
      "image/png": "[encoded data removed]",
      "text/plain": [
       "<Figure size 576x864 with 12 Axes>"
      ]
     },
     "metadata": {
      "needs_background": "light"
     },
     "output_type": "display_data"
    }
   ],
   "source": [
    "# Exploring the distribution of each column in the dataframe\n",
    "df.hist(figsize = (8,12));"
   ]
  },
  {
   "cell_type": "markdown",
   "metadata": {},
   "source": [
    "### Data Cleaning\n",
    "\n",
    "After looking at the structure of the data, we will clean up our data for the below things:\n",
    "\n",
    "- Dropping the columns not required in our analysis\n",
    "- Checking for the null values in all the columns in our dataset\n",
    "- Dropping or replacing the null values with 'Not Available' depending upon % of null and how valuable the other columns in the same row are\n",
    "- Dropping duplicate rows if any"
   ]
  },
  {
   "cell_type": "code",
   "execution_count": 6,
   "metadata": {},
   "outputs": [],
   "source": [
    "# Drop the columns not required\n",
    "df.drop(['imdb_id', 'homepage', 'tagline', 'keywords','budget','revenue', 'overview'], axis=1, inplace=True)"
   ]
  },
  {
   "cell_type": "code",
   "execution_count": 7,
   "metadata": {},
   "outputs": [],
   "source": [
    "# Replace null with 'Not Available' because we dont want to drop it\n",
    "df.fillna('Not Available', inplace=True)"
   ]
  },
  {
   "cell_type": "code",
   "execution_count": 8,
   "metadata": {},
   "outputs": [],
   "source": [
    "# Drop duplicates which is 1 row in this case\n",
    "df.drop_duplicates(inplace=True)"
   ]
  },
  {
   "cell_type": "code",
   "execution_count": 9,
   "metadata": {},
   "outputs": [
    {
     "name": "stdout",
     "output_type": "stream",
     "text": [
      "<class 'pandas.core.frame.DataFrame'>\n",
      "Int64Index: 10865 entries, 0 to 10865\n",
      "Data columns (total 14 columns):\n",
      "id                      10865 non-null int64\n",
      "popularity              10865 non-null float64\n",
      "original_title          10865 non-null object\n",
      "cast                    10865 non-null object\n",
      "director                10865 non-null object\n",
      "runtime                 10865 non-null int64\n",
      "genres                  10865 non-null object\n",
      "production_companies    10865 non-null object\n",
      "release_date            10865 non-null object\n",
      "vote_count              10865 non-null int64\n",
      "vote_average            10865 non-null float64\n",
      "release_year            10865 non-null int64\n",
      "budget_adj              10865 non-null float64\n",
      "revenue_adj             10865 non-null float64\n",
      "dtypes: float64(4), int64(4), object(6)\n",
      "memory usage: 1.2+ MB\n"
     ]
    }
   ],
   "source": [
    "# After the data cleaning steps, making sure we have retained all the important columns and have no more nulls \n",
    "df.info()"
   ]
  },
  {
   "cell_type": "markdown",
   "metadata": {},
   "source": [
    "#### After we have the cleaned the dataset, we dig deeper into the data records in each column. As part of that, we realize that genre, production_company, and cast has pipe delimited values in one row which will make analyses harder for us. In order for us to be able to analyse these, we will need to seperate these values out.\n",
    "\n",
    "First we have generated a new column with the number of values each of these column have since this will be helpful in our analyses.\n",
    "\n",
    "Once we have done that, below are few steps that are performed in order to clean each of these columns:\n",
    "- Split the multiple values in new columns\n",
    "- Merge these new columns with the original dataset\n",
    "- Unpivot these new column values using melt() and add these as additional rows for each movie\n",
    "\n",
    "Note: As we perform these steps, we need to keep in mind this will increae the number of rows. Therefore, if we melt() all the 3 columns in a single data frame, it will exponentially increase our data set adding unnecessary row duplicates making it hard for us to work with.\n",
    "In order to prevent this, we will create 3 sub-dataframes one for each genre, production_company, and cast. We will use these from time to time in our analyses below.\n",
    "\n",
    "We will continue to retain and use our original datasets for places where we do not require deep analyses on these 3 columns."
   ]
  },
  {
   "cell_type": "code",
   "execution_count": 10,
   "metadata": {},
   "outputs": [],
   "source": [
    "# Counting the number of genre, production company, and cast each movie has and saving those values in new columns\n",
    "df['genre_count'] = df.genres.str.split('|').str.len()\n",
    "df['prod_count'] = df.production_companies.str.split('|').str.len()\n",
    "df['cast_count'] = df.cast.str.split('|').str.len()"
   ]
  },
  {
   "cell_type": "code",
   "execution_count": 11,
   "metadata": {},
   "outputs": [],
   "source": [
    "# Create a list after we split the column by pipe\n",
    "# Create series for the different values after we have split it\n",
    "# Merge these splitted values to the original dataframe\n",
    "\n",
    "df_genre_split = df.genres.str.split('|').apply(pd.Series)\\\n",
    "         .merge(df, right_index = True, left_index = True)                                               "
   ]
  },
  {
   "cell_type": "code",
   "execution_count": 12,
   "metadata": {},
   "outputs": [],
   "source": [
    "# Unpivote the dataframe and insert these values in different rows\n",
    "# Drop the 'variable' column that is generated as part of melt() since we dont need it\n",
    "# Drop all NAs introduced as a result of split() and series()\n",
    "# Creating a new dataframe df_genre with unpivotted values for 'genres'\n",
    "\n",
    "df_genre = pd.melt(df_genre_split, id_vars = df.columns, value_name = \"genre\")\\\n",
    "         .drop(\"variable\", axis = 1)\\\n",
    "         .dropna()"
   ]
  },
  {
   "cell_type": "code",
   "execution_count": 13,
   "metadata": {},
   "outputs": [
    {
     "data": {
      "text/html": [
       "<div>\n",
       "<style scoped>\n",
       "    .dataframe tbody tr th:only-of-type {\n",
       "        vertical-align: middle;\n",
       "    }\n",
       "\n",
       "    .dataframe tbody tr th {\n",
       "        vertical-align: top;\n",
       "    }\n",
       "\n",
       "    .dataframe thead th {\n",
       "        text-align: right;\n",
       "    }\n",
       "</style>\n",
       "<table border=\"1\" class=\"dataframe\">\n",
       "  <thead>\n",
       "    <tr style=\"text-align: right;\">\n",
       "      <th></th>\n",
       "      <th>id</th>\n",
       "      <th>popularity</th>\n",
       "      <th>original_title</th>\n",
       "      <th>cast</th>\n",
       "      <th>director</th>\n",
       "      <th>runtime</th>\n",
       "      <th>genres</th>\n",
       "      <th>production_companies</th>\n",
       "      <th>release_date</th>\n",
       "      <th>vote_count</th>\n",
       "      <th>vote_average</th>\n",
       "      <th>release_year</th>\n",
       "      <th>budget_adj</th>\n",
       "      <th>revenue_adj</th>\n",
       "      <th>genre_count</th>\n",
       "      <th>prod_count</th>\n",
       "      <th>cast_count</th>\n",
       "      <th>genre</th>\n",
       "    </tr>\n",
       "  </thead>\n",
       "  <tbody>\n",
       "    <tr>\n",
       "      <th>0</th>\n",
       "      <td>135397</td>\n",
       "      <td>32.985763</td>\n",
       "      <td>Jurassic World</td>\n",
       "      <td>Chris Pratt|Bryce Dallas Howard|Irrfan Khan|Vi...</td>\n",
       "      <td>Colin Trevorrow</td>\n",
       "      <td>124</td>\n",
       "      <td>Action|Adventure|Science Fiction|Thriller</td>\n",
       "      <td>Universal Studios|Amblin Entertainment|Legenda...</td>\n",
       "      <td>6/9/15</td>\n",
       "      <td>5562</td>\n",
       "      <td>6.5</td>\n",
       "      <td>2015</td>\n",
       "      <td>1.379999e+08</td>\n",
       "      <td>1.392446e+09</td>\n",
       "      <td>4</td>\n",
       "      <td>5</td>\n",
       "      <td>5</td>\n",
       "      <td>Action</td>\n",
       "    </tr>\n",
       "    <tr>\n",
       "      <th>10865</th>\n",
       "      <td>135397</td>\n",
       "      <td>32.985763</td>\n",
       "      <td>Jurassic World</td>\n",
       "      <td>Chris Pratt|Bryce Dallas Howard|Irrfan Khan|Vi...</td>\n",
       "      <td>Colin Trevorrow</td>\n",
       "      <td>124</td>\n",
       "      <td>Action|Adventure|Science Fiction|Thriller</td>\n",
       "      <td>Universal Studios|Amblin Entertainment|Legenda...</td>\n",
       "      <td>6/9/15</td>\n",
       "      <td>5562</td>\n",
       "      <td>6.5</td>\n",
       "      <td>2015</td>\n",
       "      <td>1.379999e+08</td>\n",
       "      <td>1.392446e+09</td>\n",
       "      <td>4</td>\n",
       "      <td>5</td>\n",
       "      <td>5</td>\n",
       "      <td>Adventure</td>\n",
       "    </tr>\n",
       "    <tr>\n",
       "      <th>21730</th>\n",
       "      <td>135397</td>\n",
       "      <td>32.985763</td>\n",
       "      <td>Jurassic World</td>\n",
       "      <td>Chris Pratt|Bryce Dallas Howard|Irrfan Khan|Vi...</td>\n",
       "      <td>Colin Trevorrow</td>\n",
       "      <td>124</td>\n",
       "      <td>Action|Adventure|Science Fiction|Thriller</td>\n",
       "      <td>Universal Studios|Amblin Entertainment|Legenda...</td>\n",
       "      <td>6/9/15</td>\n",
       "      <td>5562</td>\n",
       "      <td>6.5</td>\n",
       "      <td>2015</td>\n",
       "      <td>1.379999e+08</td>\n",
       "      <td>1.392446e+09</td>\n",
       "      <td>4</td>\n",
       "      <td>5</td>\n",
       "      <td>5</td>\n",
       "      <td>Science Fiction</td>\n",
       "    </tr>\n",
       "    <tr>\n",
       "      <th>32595</th>\n",
       "      <td>135397</td>\n",
       "      <td>32.985763</td>\n",
       "      <td>Jurassic World</td>\n",
       "      <td>Chris Pratt|Bryce Dallas Howard|Irrfan Khan|Vi...</td>\n",
       "      <td>Colin Trevorrow</td>\n",
       "      <td>124</td>\n",
       "      <td>Action|Adventure|Science Fiction|Thriller</td>\n",
       "      <td>Universal Studios|Amblin Entertainment|Legenda...</td>\n",
       "      <td>6/9/15</td>\n",
       "      <td>5562</td>\n",
       "      <td>6.5</td>\n",
       "      <td>2015</td>\n",
       "      <td>1.379999e+08</td>\n",
       "      <td>1.392446e+09</td>\n",
       "      <td>4</td>\n",
       "      <td>5</td>\n",
       "      <td>5</td>\n",
       "      <td>Thriller</td>\n",
       "    </tr>\n",
       "  </tbody>\n",
       "</table>\n",
       "</div>"
      ],
      "text/plain": [
       "           id  popularity  original_title  \\\n",
       "0      135397   32.985763  Jurassic World   \n",
       "10865  135397   32.985763  Jurassic World   \n",
       "21730  135397   32.985763  Jurassic World   \n",
       "32595  135397   32.985763  Jurassic World   \n",
       "\n",
       "                                                    cast         director  \\\n",
       "0      Chris Pratt|Bryce Dallas Howard|Irrfan Khan|Vi...  Colin Trevorrow   \n",
       "10865  Chris Pratt|Bryce Dallas Howard|Irrfan Khan|Vi...  Colin Trevorrow   \n",
       "21730  Chris Pratt|Bryce Dallas Howard|Irrfan Khan|Vi...  Colin Trevorrow   \n",
       "32595  Chris Pratt|Bryce Dallas Howard|Irrfan Khan|Vi...  Colin Trevorrow   \n",
       "\n",
       "       runtime                                     genres  \\\n",
       "0          124  Action|Adventure|Science Fiction|Thriller   \n",
       "10865      124  Action|Adventure|Science Fiction|Thriller   \n",
       "21730      124  Action|Adventure|Science Fiction|Thriller   \n",
       "32595      124  Action|Adventure|Science Fiction|Thriller   \n",
       "\n",
       "                                    production_companies release_date  \\\n",
       "0      Universal Studios|Amblin Entertainment|Legenda...       6/9/15   \n",
       "10865  Universal Studios|Amblin Entertainment|Legenda...       6/9/15   \n",
       "21730  Universal Studios|Amblin Entertainment|Legenda...       6/9/15   \n",
       "32595  Universal Studios|Amblin Entertainment|Legenda...       6/9/15   \n",
       "\n",
       "       vote_count  vote_average  release_year    budget_adj   revenue_adj  \\\n",
       "0            5562           6.5          2015  1.379999e+08  1.392446e+09   \n",
       "10865        5562           6.5          2015  1.379999e+08  1.392446e+09   \n",
       "21730        5562           6.5          2015  1.379999e+08  1.392446e+09   \n",
       "32595        5562           6.5          2015  1.379999e+08  1.392446e+09   \n",
       "\n",
       "       genre_count  prod_count  cast_count            genre  \n",
       "0                4           5           5           Action  \n",
       "10865            4           5           5        Adventure  \n",
       "21730            4           5           5  Science Fiction  \n",
       "32595            4           5           5         Thriller  "
      ]
     },
     "execution_count": 13,
     "metadata": {},
     "output_type": "execute_result"
    }
   ],
   "source": [
    "# Verify that the records are accurate after we have unpivotted these values\n",
    "# Sort by id, eye ball the splitted values and compare it with original record\n",
    "df_genre.sort_values(by=['id'],ascending=False)\n",
    "\n",
    "# Verify a random example\n",
    "df_genre[df_genre['original_title'] == 'Jurassic World']"
   ]
  },
  {
   "cell_type": "code",
   "execution_count": 14,
   "metadata": {},
   "outputs": [
    {
     "name": "stdout",
     "output_type": "stream",
     "text": [
      "<class 'pandas.core.frame.DataFrame'>\n",
      "Int64Index: 26978 entries, 0 to 54310\n",
      "Data columns (total 18 columns):\n",
      "id                      26978 non-null int64\n",
      "popularity              26978 non-null float64\n",
      "original_title          26978 non-null object\n",
      "cast                    26978 non-null object\n",
      "director                26978 non-null object\n",
      "runtime                 26978 non-null int64\n",
      "genres                  26978 non-null object\n",
      "production_companies    26978 non-null object\n",
      "release_date            26978 non-null object\n",
      "vote_count              26978 non-null int64\n",
      "vote_average            26978 non-null float64\n",
      "release_year            26978 non-null int64\n",
      "budget_adj              26978 non-null float64\n",
      "revenue_adj             26978 non-null float64\n",
      "genre_count             26978 non-null int64\n",
      "prod_count              26978 non-null int64\n",
      "cast_count              26978 non-null int64\n",
      "genre                   26978 non-null object\n",
      "dtypes: float64(4), int64(7), object(7)\n",
      "memory usage: 3.9+ MB\n"
     ]
    }
   ],
   "source": [
    "# Exploring the structure of df_genre dataframe and notice the increase in number of rows as a result of unpivot\n",
    "df_genre.info()"
   ]
  },
  {
   "cell_type": "code",
   "execution_count": 15,
   "metadata": {},
   "outputs": [
    {
     "data": {
      "text/plain": [
       "21"
      ]
     },
     "execution_count": 15,
     "metadata": {},
     "output_type": "execute_result"
    }
   ],
   "source": [
    "# Our new dataframe helps us identify the total number of genres and type of genres our dataset has\n",
    "# It has 21 genres which also includes 'Not Available' as one category where genre is missing in original dataset\n",
    "df_genre['genre'].nunique()"
   ]
  },
  {
   "cell_type": "code",
   "execution_count": 16,
   "metadata": {},
   "outputs": [
    {
     "name": "stdout",
     "output_type": "stream",
     "text": [
      "<class 'pandas.core.frame.DataFrame'>\n",
      "Int64Index: 24255 entries, 0 to 54028\n",
      "Data columns (total 18 columns):\n",
      "id                      24255 non-null int64\n",
      "popularity              24255 non-null float64\n",
      "original_title          24255 non-null object\n",
      "cast                    24255 non-null object\n",
      "director                24255 non-null object\n",
      "runtime                 24255 non-null int64\n",
      "genres                  24255 non-null object\n",
      "production_companies    24255 non-null object\n",
      "release_date            24255 non-null object\n",
      "vote_count              24255 non-null int64\n",
      "vote_average            24255 non-null float64\n",
      "release_year            24255 non-null int64\n",
      "budget_adj              24255 non-null float64\n",
      "revenue_adj             24255 non-null float64\n",
      "genre_count             24255 non-null int64\n",
      "prod_count              24255 non-null int64\n",
      "cast_count              24255 non-null int64\n",
      "production_company      24255 non-null object\n",
      "dtypes: float64(4), int64(7), object(7)\n",
      "memory usage: 3.5+ MB\n",
      "None\n",
      "       id  popularity                original_title  \\\n",
      "0  135397   32.985763                Jurassic World   \n",
      "1   76341   28.419936            Mad Max: Fury Road   \n",
      "2  262500   13.112507                     Insurgent   \n",
      "3  140607   11.173104  Star Wars: The Force Awakens   \n",
      "4  168259    9.335014                     Furious 7   \n",
      "\n",
      "                                                cast          director  \\\n",
      "0  Chris Pratt|Bryce Dallas Howard|Irrfan Khan|Vi...   Colin Trevorrow   \n",
      "1  Tom Hardy|Charlize Theron|Hugh Keays-Byrne|Nic...     George Miller   \n",
      "2  Shailene Woodley|Theo James|Kate Winslet|Ansel...  Robert Schwentke   \n",
      "3  Harrison Ford|Mark Hamill|Carrie Fisher|Adam D...       J.J. Abrams   \n",
      "4  Vin Diesel|Paul Walker|Jason Statham|Michelle ...         James Wan   \n",
      "\n",
      "   runtime                                     genres  \\\n",
      "0      124  Action|Adventure|Science Fiction|Thriller   \n",
      "1      120  Action|Adventure|Science Fiction|Thriller   \n",
      "2      119         Adventure|Science Fiction|Thriller   \n",
      "3      136   Action|Adventure|Science Fiction|Fantasy   \n",
      "4      137                      Action|Crime|Thriller   \n",
      "\n",
      "                                production_companies release_date  vote_count  \\\n",
      "0  Universal Studios|Amblin Entertainment|Legenda...       6/9/15        5562   \n",
      "1  Village Roadshow Pictures|Kennedy Miller Produ...      5/13/15        6185   \n",
      "2  Summit Entertainment|Mandeville Films|Red Wago...      3/18/15        2480   \n",
      "3          Lucasfilm|Truenorth Productions|Bad Robot     12/15/15        5292   \n",
      "4  Universal Pictures|Original Film|Media Rights ...       4/1/15        2947   \n",
      "\n",
      "   vote_average  release_year    budget_adj   revenue_adj  genre_count  \\\n",
      "0           6.5          2015  1.379999e+08  1.392446e+09            4   \n",
      "1           7.1          2015  1.379999e+08  3.481613e+08            4   \n",
      "2           6.3          2015  1.012000e+08  2.716190e+08            3   \n",
      "3           7.5          2015  1.839999e+08  1.902723e+09            4   \n",
      "4           7.3          2015  1.747999e+08  1.385749e+09            3   \n",
      "\n",
      "   prod_count  cast_count         production_company  \n",
      "0           5           5          Universal Studios  \n",
      "1           2           5  Village Roadshow Pictures  \n",
      "2           4           5       Summit Entertainment  \n",
      "3           3           5                  Lucasfilm  \n",
      "4           5           5         Universal Pictures  \n"
     ]
    }
   ],
   "source": [
    "# Similar steps are followed to create new dataframes with unpivotted values for 'production_companies'\n",
    "# Since genre, production_companies, and casts have many to many relationship, we want to re-emphasize\n",
    "# the reason for not unpivotting all 3 columns in a single dataframe and avoiding exponential explosion of records\n",
    "\n",
    "df_prod = df.production_companies.str.split('|').apply(pd.Series)\\\n",
    "         .merge(df, right_index = True, left_index = True)\\\n",
    "         .melt(id_vars = df.columns, value_name = \"production_company\")\\\n",
    "         .drop(\"variable\", axis = 1)\\\n",
    "         .dropna()\n",
    "\n",
    "# Exploring the structure of df_prod dataframe and notice the increase in number of rows as a result of unpivot\n",
    "print(df_prod.info())\n",
    "print(df_prod.head())\n",
    "\n",
    "#verify result for a random example\n",
    "#print(df_prod[df_prod['original_title'] == 'Jurassic World'])"
   ]
  },
  {
   "cell_type": "code",
   "execution_count": 17,
   "metadata": {},
   "outputs": [
    {
     "name": "stdout",
     "output_type": "stream",
     "text": [
      "<class 'pandas.core.frame.DataFrame'>\n",
      "Int64Index: 52644 entries, 0 to 54324\n",
      "Data columns (total 18 columns):\n",
      "id                      52644 non-null int64\n",
      "popularity              52644 non-null float64\n",
      "original_title          52644 non-null object\n",
      "cast                    52644 non-null object\n",
      "director                52644 non-null object\n",
      "runtime                 52644 non-null int64\n",
      "genres                  52644 non-null object\n",
      "production_companies    52644 non-null object\n",
      "release_date            52644 non-null object\n",
      "vote_count              52644 non-null int64\n",
      "vote_average            52644 non-null float64\n",
      "release_year            52644 non-null int64\n",
      "budget_adj              52644 non-null float64\n",
      "revenue_adj             52644 non-null float64\n",
      "genre_count             52644 non-null int64\n",
      "prod_count              52644 non-null int64\n",
      "cast_count              52644 non-null int64\n",
      "movie_cast              52644 non-null object\n",
      "dtypes: float64(4), int64(7), object(7)\n",
      "memory usage: 7.6+ MB\n",
      "None\n",
      "       id  popularity                original_title  \\\n",
      "0  135397   32.985763                Jurassic World   \n",
      "1   76341   28.419936            Mad Max: Fury Road   \n",
      "2  262500   13.112507                     Insurgent   \n",
      "3  140607   11.173104  Star Wars: The Force Awakens   \n",
      "4  168259    9.335014                     Furious 7   \n",
      "\n",
      "                                                cast          director  \\\n",
      "0  Chris Pratt|Bryce Dallas Howard|Irrfan Khan|Vi...   Colin Trevorrow   \n",
      "1  Tom Hardy|Charlize Theron|Hugh Keays-Byrne|Nic...     George Miller   \n",
      "2  Shailene Woodley|Theo James|Kate Winslet|Ansel...  Robert Schwentke   \n",
      "3  Harrison Ford|Mark Hamill|Carrie Fisher|Adam D...       J.J. Abrams   \n",
      "4  Vin Diesel|Paul Walker|Jason Statham|Michelle ...         James Wan   \n",
      "\n",
      "   runtime                                     genres  \\\n",
      "0      124  Action|Adventure|Science Fiction|Thriller   \n",
      "1      120  Action|Adventure|Science Fiction|Thriller   \n",
      "2      119         Adventure|Science Fiction|Thriller   \n",
      "3      136   Action|Adventure|Science Fiction|Fantasy   \n",
      "4      137                      Action|Crime|Thriller   \n",
      "\n",
      "                                production_companies release_date  vote_count  \\\n",
      "0  Universal Studios|Amblin Entertainment|Legenda...       6/9/15        5562   \n",
      "1  Village Roadshow Pictures|Kennedy Miller Produ...      5/13/15        6185   \n",
      "2  Summit Entertainment|Mandeville Films|Red Wago...      3/18/15        2480   \n",
      "3          Lucasfilm|Truenorth Productions|Bad Robot     12/15/15        5292   \n",
      "4  Universal Pictures|Original Film|Media Rights ...       4/1/15        2947   \n",
      "\n",
      "   vote_average  release_year    budget_adj   revenue_adj  genre_count  \\\n",
      "0           6.5          2015  1.379999e+08  1.392446e+09            4   \n",
      "1           7.1          2015  1.379999e+08  3.481613e+08            4   \n",
      "2           6.3          2015  1.012000e+08  2.716190e+08            3   \n",
      "3           7.5          2015  1.839999e+08  1.902723e+09            4   \n",
      "4           7.3          2015  1.747999e+08  1.385749e+09            3   \n",
      "\n",
      "   prod_count  cast_count        movie_cast  \n",
      "0           5           5       Chris Pratt  \n",
      "1           2           5         Tom Hardy  \n",
      "2           4           5  Shailene Woodley  \n",
      "3           3           5     Harrison Ford  \n",
      "4           5           5        Vin Diesel  \n"
     ]
    }
   ],
   "source": [
    "# Similar steps are followed to create new dataframes with unpivotted values for 'cast'\n",
    "# Since genre, production_companies, and casts have many to many relationship, we want to re-emphasize\n",
    "# the reason for not unpivotting all 3 columns in a single dataframe and avoiding exponential explosion of records\n",
    "\n",
    "df_cast = df.cast.str.split('|').apply(pd.Series)\\\n",
    "         .merge(df, right_index = True, left_index = True)\\\n",
    "         .melt(id_vars = df.columns, value_name = \"movie_cast\")\\\n",
    "         .drop(\"variable\", axis = 1)\\\n",
    "         .dropna()\n",
    "\n",
    "# Exploring the structure of df_cast dataframe and notice the increase in number of rows as a result of unpivot\n",
    "print(df_cast.info())\n",
    "print(df_cast.head())\n",
    "\n",
    "#verify result for a random example\n",
    "#print(df_cast[df_cast['original_title'] == 'Jurassic World'])"
   ]
  },
  {
   "cell_type": "markdown",
   "metadata": {},
   "source": [
    "<a id='eda'></a>\n",
    "## Exploratory Data Analysis\n",
    "\n",
    "Now that we have our dataset trimmed and cleaned, we will move to the data exploration steps. We will compute statistics and create visualizations with the goal of addressing the research questions that we have posted in the Introduction section. \n",
    "\n",
    "### Research Question 1 \n",
    "#### What type of movies have typically returned the high revenue?\n",
    "> For this question, since we are trying to find the characteristics of movies with high revenue, we will be using 'revenue_adj' column as the dependent variable and rest all columns as independent variables.\n",
    "\n",
    "Note: The reason for using 'revenue_adj' over 'revenue' is to account for inflation over time and prevent any revenue bias"
   ]
  },
  {
   "cell_type": "code",
   "execution_count": 18,
   "metadata": {},
   "outputs": [
    {
     "data": {
      "text/plain": [
       "<matplotlib.axes._subplots.AxesSubplot at 0x1a25751710>"
      ]
     },
     "execution_count": 18,
     "metadata": {},
     "output_type": "execute_result"
    },
    {
     "data": {
      "image/png": "[encoded data removed]",
      "text/plain": [
       "<Figure size 432x288 with 2 Axes>"
      ]
     },
     "metadata": {
      "needs_background": "light"
     },
     "output_type": "display_data"
    }
   ],
   "source": [
    "# As a starting step, we would want to see the relationsip of all the columns with revenue_adj\n",
    "# To explore this relationship, we wil produce a heatmap which will show correlation for all the numeric columns\n",
    "# The heatmap depicts, revenue_adj has positive corrlation (0.8) with 'popularity', 'vote_count' \n",
    "# and 0.6 correlation with 'budget_adj'. It has no correlation with the other columns and also no negative correlation\n",
    "\n",
    "sns.heatmap(df.corr())"
   ]
  },
  {
   "cell_type": "code",
   "execution_count": 19,
   "metadata": {},
   "outputs": [
    {
     "data": {
      "text/html": [
       "<div>\n",
       "<style scoped>\n",
       "    .dataframe tbody tr th:only-of-type {\n",
       "        vertical-align: middle;\n",
       "    }\n",
       "\n",
       "    .dataframe tbody tr th {\n",
       "        vertical-align: top;\n",
       "    }\n",
       "\n",
       "    .dataframe thead th {\n",
       "        text-align: right;\n",
       "    }\n",
       "</style>\n",
       "<table border=\"1\" class=\"dataframe\">\n",
       "  <thead>\n",
       "    <tr style=\"text-align: right;\">\n",
       "      <th></th>\n",
       "      <th>id</th>\n",
       "      <th>popularity</th>\n",
       "      <th>runtime</th>\n",
       "      <th>vote_count</th>\n",
       "      <th>vote_average</th>\n",
       "      <th>release_year</th>\n",
       "      <th>budget_adj</th>\n",
       "      <th>revenue_adj</th>\n",
       "      <th>genre_count</th>\n",
       "      <th>prod_count</th>\n",
       "      <th>cast_count</th>\n",
       "    </tr>\n",
       "  </thead>\n",
       "  <tbody>\n",
       "    <tr>\n",
       "      <th>count</th>\n",
       "      <td>10865.000000</td>\n",
       "      <td>10865.000000</td>\n",
       "      <td>10865.000000</td>\n",
       "      <td>10865.000000</td>\n",
       "      <td>10865.000000</td>\n",
       "      <td>10865.000000</td>\n",
       "      <td>1.086500e+04</td>\n",
       "      <td>1.086500e+04</td>\n",
       "      <td>10865.000000</td>\n",
       "      <td>10865.000000</td>\n",
       "      <td>10865.000000</td>\n",
       "    </tr>\n",
       "    <tr>\n",
       "      <th>mean</th>\n",
       "      <td>66066.374413</td>\n",
       "      <td>0.646446</td>\n",
       "      <td>102.071790</td>\n",
       "      <td>217.399632</td>\n",
       "      <td>5.975012</td>\n",
       "      <td>2001.321859</td>\n",
       "      <td>1.754989e+07</td>\n",
       "      <td>5.136900e+07</td>\n",
       "      <td>2.483019</td>\n",
       "      <td>2.232398</td>\n",
       "      <td>4.845283</td>\n",
       "    </tr>\n",
       "    <tr>\n",
       "      <th>std</th>\n",
       "      <td>92134.091971</td>\n",
       "      <td>1.000231</td>\n",
       "      <td>31.382701</td>\n",
       "      <td>575.644627</td>\n",
       "      <td>0.935138</td>\n",
       "      <td>12.813260</td>\n",
       "      <td>3.430753e+07</td>\n",
       "      <td>1.446383e+08</td>\n",
       "      <td>1.116350</td>\n",
       "      <td>1.339340</td>\n",
       "      <td>0.666009</td>\n",
       "    </tr>\n",
       "    <tr>\n",
       "      <th>min</th>\n",
       "      <td>5.000000</td>\n",
       "      <td>0.000065</td>\n",
       "      <td>0.000000</td>\n",
       "      <td>10.000000</td>\n",
       "      <td>1.500000</td>\n",
       "      <td>1960.000000</td>\n",
       "      <td>0.000000e+00</td>\n",
       "      <td>0.000000e+00</td>\n",
       "      <td>1.000000</td>\n",
       "      <td>1.000000</td>\n",
       "      <td>1.000000</td>\n",
       "    </tr>\n",
       "    <tr>\n",
       "      <th>25%</th>\n",
       "      <td>10596.000000</td>\n",
       "      <td>0.207575</td>\n",
       "      <td>90.000000</td>\n",
       "      <td>17.000000</td>\n",
       "      <td>5.400000</td>\n",
       "      <td>1995.000000</td>\n",
       "      <td>0.000000e+00</td>\n",
       "      <td>0.000000e+00</td>\n",
       "      <td>2.000000</td>\n",
       "      <td>1.000000</td>\n",
       "      <td>5.000000</td>\n",
       "    </tr>\n",
       "    <tr>\n",
       "      <th>50%</th>\n",
       "      <td>20662.000000</td>\n",
       "      <td>0.383831</td>\n",
       "      <td>99.000000</td>\n",
       "      <td>38.000000</td>\n",
       "      <td>6.000000</td>\n",
       "      <td>2006.000000</td>\n",
       "      <td>0.000000e+00</td>\n",
       "      <td>0.000000e+00</td>\n",
       "      <td>2.000000</td>\n",
       "      <td>2.000000</td>\n",
       "      <td>5.000000</td>\n",
       "    </tr>\n",
       "    <tr>\n",
       "      <th>75%</th>\n",
       "      <td>75612.000000</td>\n",
       "      <td>0.713857</td>\n",
       "      <td>111.000000</td>\n",
       "      <td>146.000000</td>\n",
       "      <td>6.600000</td>\n",
       "      <td>2011.000000</td>\n",
       "      <td>2.085325e+07</td>\n",
       "      <td>3.370173e+07</td>\n",
       "      <td>3.000000</td>\n",
       "      <td>3.000000</td>\n",
       "      <td>5.000000</td>\n",
       "    </tr>\n",
       "    <tr>\n",
       "      <th>max</th>\n",
       "      <td>417859.000000</td>\n",
       "      <td>32.985763</td>\n",
       "      <td>900.000000</td>\n",
       "      <td>9767.000000</td>\n",
       "      <td>9.200000</td>\n",
       "      <td>2015.000000</td>\n",
       "      <td>4.250000e+08</td>\n",
       "      <td>2.827124e+09</td>\n",
       "      <td>5.000000</td>\n",
       "      <td>5.000000</td>\n",
       "      <td>5.000000</td>\n",
       "    </tr>\n",
       "  </tbody>\n",
       "</table>\n",
       "</div>"
      ],
      "text/plain": [
       "                  id    popularity       runtime    vote_count  vote_average  \\\n",
       "count   10865.000000  10865.000000  10865.000000  10865.000000  10865.000000   \n",
       "mean    66066.374413      0.646446    102.071790    217.399632      5.975012   \n",
       "std     92134.091971      1.000231     31.382701    575.644627      0.935138   \n",
       "min         5.000000      0.000065      0.000000     10.000000      1.500000   \n",
       "25%     10596.000000      0.207575     90.000000     17.000000      5.400000   \n",
       "50%     20662.000000      0.383831     99.000000     38.000000      6.000000   \n",
       "75%     75612.000000      0.713857    111.000000    146.000000      6.600000   \n",
       "max    417859.000000     32.985763    900.000000   9767.000000      9.200000   \n",
       "\n",
       "       release_year    budget_adj   revenue_adj   genre_count    prod_count  \\\n",
       "count  10865.000000  1.086500e+04  1.086500e+04  10865.000000  10865.000000   \n",
       "mean    2001.321859  1.754989e+07  5.136900e+07      2.483019      2.232398   \n",
       "std       12.813260  3.430753e+07  1.446383e+08      1.116350      1.339340   \n",
       "min     1960.000000  0.000000e+00  0.000000e+00      1.000000      1.000000   \n",
       "25%     1995.000000  0.000000e+00  0.000000e+00      2.000000      1.000000   \n",
       "50%     2006.000000  0.000000e+00  0.000000e+00      2.000000      2.000000   \n",
       "75%     2011.000000  2.085325e+07  3.370173e+07      3.000000      3.000000   \n",
       "max     2015.000000  4.250000e+08  2.827124e+09      5.000000      5.000000   \n",
       "\n",
       "         cast_count  \n",
       "count  10865.000000  \n",
       "mean       4.845283  \n",
       "std        0.666009  \n",
       "min        1.000000  \n",
       "25%        5.000000  \n",
       "50%        5.000000  \n",
       "75%        5.000000  \n",
       "max        5.000000  "
      ]
     },
     "execution_count": 19,
     "metadata": {},
     "output_type": "execute_result"
    }
   ],
   "source": [
    "# Decsibing the dataset to see the min, max, and percentile distribution for each numeric field within our dataframe\n",
    "df.describe()"
   ]
  },
  {
   "cell_type": "code",
   "execution_count": 21,
   "metadata": {},
   "outputs": [
    {
     "data": {
      "image/png": "[encoded data removed]",
      "text/plain": [
       "<Figure size 432x288 with 1 Axes>"
      ]
     },
     "metadata": {
      "needs_background": "light"
     },
     "output_type": "display_data"
    }
   ],
   "source": [
    "# Plotting 'revenue_adj' against 'popularity' to analyse the positive relationship\n",
    "# As we see in above table, 75% percent of the popularity values are within the range of 0 to 0.7. This can be \n",
    "# seen in the scatter plot with highly concentrated values for popularity close to 0 and how it spreads out towards 5\n",
    "# with a very limited values with high revenue making the top 25%\n",
    "# We also observe some outliers with 25 and above popularity\n",
    "\n",
    "plt.scatter(df['popularity'], df['revenue_adj']);\n",
    "plt.title('Revenue distribution based on popularity');\n",
    "plt.xlabel('Popularity');\n",
    "plt.ylabel('Revenue');"
   ]
  },
  {
   "cell_type": "code",
   "execution_count": 22,
   "metadata": {},
   "outputs": [
    {
     "data": {
      "image/png": "[encoded data removed]",
      "text/plain": [
       "<Figure size 432x288 with 1 Axes>"
      ]
     },
     "metadata": {
      "needs_background": "light"
     },
     "output_type": "display_data"
    }
   ],
   "source": [
    "# Plotting 'revenue_adj' against 'vote_count' to analyse the positive relationship\n",
    "# As we see in above table, 75% percent of the vote_count values are within the range of 10 to 146. This can be \n",
    "# seen in the scatter plot with highly concentrated values for vote_count under the 2000 mark and how it \n",
    "# spreads out towards 2000 with a limited values with high revenue making the top 25%\n",
    "# We also observe some outliers with 8000 and above vote counts\n",
    "\n",
    "plt.scatter(df['vote_count'], df['revenue_adj']);\n",
    "plt.title('Revenue distribution based on vote count');\n",
    "plt.xlabel('Vote Count');\n",
    "plt.ylabel('Revenue');"
   ]
  },
  {
   "cell_type": "code",
   "execution_count": 23,
   "metadata": {},
   "outputs": [
    {
     "data": {
      "image/png": "[encoded data removed]",
      "text/plain": [
       "<Figure size 432x288 with 1 Axes>"
      ]
     },
     "metadata": {
      "needs_background": "light"
     },
     "output_type": "display_data"
    }
   ],
   "source": [
    "# Plotting 'revenue_adj' against 'budget_adj' to analyse the positive relationship\n",
    "# As we see in above table, more than 50% of the values have 0 for budget_adj. From 50th-75th% has budget close to 20M.\n",
    "# This can be seen in the scatter plot with high concentration of values around 0 and spreading as it moves\n",
    "# towards 100M with smaller number of values having even higher revenue making the top 25%\n",
    "# We also observe some outliers with 300M and above budget\n",
    "\n",
    "plt.scatter(df['budget_adj'], df['revenue_adj']);\n",
    "plt.title('Revenue distribution based on budget');\n",
    "plt.xlabel('Budget');\n",
    "plt.ylabel('Revenue');"
   ]
  },
  {
   "cell_type": "markdown",
   "metadata": {},
   "source": [
    "\n",
    "#### Now that we have seen the relationship of the numeric values with 'revenue_adj', we will see how is it impacted by the categorical columns.\n",
    "Comparing the categorical columns isn't as direct as numeric. We will now be using the new dataframes that we had created in the previous section and see how if at all genre, casts, director, and production companies impacts the revenue."
   ]
  },
  {
   "cell_type": "markdown",
   "metadata": {},
   "source": [
    "#### Revenue against Genre"
   ]
  },
  {
   "cell_type": "code",
   "execution_count": 33,
   "metadata": {},
   "outputs": [
    {
     "data": {
      "text/plain": [
       "Text(0, 0.5, 'Revenue')"
      ]
     },
     "execution_count": 33,
     "metadata": {},
     "output_type": "execute_result"
    },
    {
     "data": {
      "image/png": "[encoded data removed]",
      "text/plain": [
       "<Figure size 432x288 with 1 Axes>"
      ]
     },
     "metadata": {
      "needs_background": "light"
     },
     "output_type": "display_data"
    }
   ],
   "source": [
    "# Plotting the total revenue returned by each genre reveals that max revenue has been returned by Action movies\n",
    "# very closely followed by Adventure and Drama\n",
    "\n",
    "df_genre.groupby('genre')['revenue_adj'].sum().sort_values(ascending=False).\\\n",
    "    plot(kind='bar', title='Revenue by Genre');\n",
    "plt.xlabel('Genre')\n",
    "plt.ylabel('Revenue')"
   ]
  },
  {
   "cell_type": "code",
   "execution_count": 23,
   "metadata": {},
   "outputs": [
    {
     "data": {
      "text/plain": [
       "genre\n",
       "Action             13.328067\n",
       "Adventure          12.697619\n",
       "Drama              11.721635\n",
       "Comedy             11.068961\n",
       "Thriller            9.792119\n",
       "Family              6.580442\n",
       "Science Fiction     6.512970\n",
       "Fantasy             6.207966\n",
       "Romance             5.027690\n",
       "Crime               4.672293\n",
       "Animation           3.630935\n",
       "Mystery             2.511465\n",
       "Horror              2.401982\n",
       "Music               1.159799\n",
       "War                 1.151307\n",
       "History             0.975749\n",
       "Western             0.463460\n",
       "Documentary         0.071546\n",
       "Foreign             0.020438\n",
       "TV Movie            0.003558\n",
       "Not Available       0.000000\n",
       "Name: revenue_adj, dtype: float64"
      ]
     },
     "execution_count": 23,
     "metadata": {},
     "output_type": "execute_result"
    }
   ],
   "source": [
    "# Percent of revenue returned by each genre\n",
    "(df_genre.groupby('genre')['revenue_adj'].sum().sort_values(ascending=False))*100/df_genre['revenue_adj'].sum()"
   ]
  },
  {
   "cell_type": "code",
   "execution_count": 24,
   "metadata": {},
   "outputs": [
    {
     "data": {
      "text/plain": [
       "Drama              43.810400\n",
       "Comedy             34.910262\n",
       "Thriller           26.755637\n",
       "Action             21.942016\n",
       "Romance            15.757018\n",
       "Horror             15.066728\n",
       "Adventure          13.538886\n",
       "Crime              12.462034\n",
       "Family             11.329959\n",
       "Science Fiction    11.311551\n",
       "Fantasy             8.430741\n",
       "Mystery             7.455131\n",
       "Animation           6.433502\n",
       "Documentary         4.786010\n",
       "Music               3.755177\n",
       "History             3.074091\n",
       "War                 2.485044\n",
       "Foreign             1.730327\n",
       "TV Movie            1.537046\n",
       "Western             1.518638\n",
       "Not Available       0.211689\n",
       "Name: genre, dtype: float64"
      ]
     },
     "execution_count": 24,
     "metadata": {},
     "output_type": "execute_result"
    }
   ],
   "source": [
    "# Since we have the genres that have the highest revenue, we want to compare the number of movies in these categories\n",
    "# to make sure its not just because we had the maximum number of Action movies.\n",
    "# We see that 22% of Action movies have returned more revenue than 44% of Drama or 35% of Comedy movies. \n",
    "# Adventure which is only 13% has returned the second highest revenue.\n",
    "\n",
    "df_genre['genre'].value_counts()*100/df['id'].count()"
   ]
  },
  {
   "cell_type": "markdown",
   "metadata": {},
   "source": [
    "#### Revenue against Production Companies "
   ]
  },
  {
   "cell_type": "code",
   "execution_count": 40,
   "metadata": {},
   "outputs": [
    {
     "data": {
      "image/png": "[encoded data removed]",
      "text/plain": [
       "<Figure size 432x288 with 1 Axes>"
      ]
     },
     "metadata": {
      "needs_background": "light"
     },
     "output_type": "display_data"
    }
   ],
   "source": [
    "# Plotting the total revenue by each production_company reveals that max revenue has been returned by Warner Bros.,\n",
    "# very closely followed by Universal, and Paramount Pictures\n",
    "\n",
    "df_prod.groupby('production_company')['revenue_adj'].sum().nlargest(10, keep='first').plot(kind='bar');\n",
    "plt.title('Revenue distribution by Production Company');\n",
    "plt.xlabel('Production Company');\n",
    "plt.ylabel('Revenue');"
   ]
  },
  {
   "cell_type": "code",
   "execution_count": 26,
   "metadata": {},
   "outputs": [
    {
     "data": {
      "text/plain": [
       "Not Available                                           9.479982\n",
       "Universal Pictures                                      4.804418\n",
       "Warner Bros.                                            4.684768\n",
       "Paramount Pictures                                      3.966866\n",
       "Twentieth Century Fox Film Corporation                  2.595490\n",
       "Columbia Pictures                                       2.503451\n",
       "New Line Cinema                                         2.015647\n",
       "Metro-Goldwyn-Mayer (MGM)                               2.006443\n",
       "Walt Disney Pictures                                    1.969627\n",
       "Touchstone Pictures                                     1.638288\n",
       "Columbia Pictures Corporation                           1.472618\n",
       "TriStar Pictures                                        1.352968\n",
       "Miramax Films                                           1.279337\n",
       "Relativity Media                                        0.994017\n",
       "Regency Enterprises                                     0.874367\n",
       "Canal+                                                  0.846756\n",
       "Village Roadshow Pictures                               0.809940\n",
       "DreamWorks SKG                                          0.809940\n",
       "20th Century Fox                                        0.809940\n",
       "BBC Films                                               0.800736\n",
       "Dimension Films                                         0.754717\n",
       "United Artists                                          0.699494\n",
       "Orion Pictures                                          0.662678\n",
       "Fox Searchlight Pictures                                0.625863\n",
       "Castle Rock Entertainment                               0.625863\n",
       "Working Title Films                                     0.616659\n",
       "Amblin Entertainment                                    0.598251\n",
       "StudioCanal                                             0.598251\n",
       "Lionsgate                                               0.579844\n",
       "Summit Entertainment                                    0.570640\n",
       "                                                          ...   \n",
       "Truth and Soul Pictures Inc                             0.009204\n",
       "Havana Nights LLC                                       0.009204\n",
       "Ouille Productions                                      0.009204\n",
       "MinistÃ¨re de la Culture de la Republique FranÃ§aise    0.009204\n",
       "Nu Boyana Viburno                                       0.009204\n",
       "RightOff Entertainment                                  0.009204\n",
       "Optional Pictures                                       0.009204\n",
       "Apollo Media                                            0.009204\n",
       "Film Entertainment Services                             0.009204\n",
       "Rainmark Films                                          0.009204\n",
       "Noel Gay Motion Picture Company                         0.009204\n",
       "The Picture Property Company                            0.009204\n",
       "33andOut Productions                                    0.009204\n",
       "Native Pictures Productions                             0.009204\n",
       "El Deseo                                                0.009204\n",
       "Academy Pictures                                        0.009204\n",
       "Showcase Entertainment, Inc.                            0.009204\n",
       "Redrum Films                                            0.009204\n",
       "YouTube                                                 0.009204\n",
       "Extinct Production                                      0.009204\n",
       "Sociedad General de Cine S.A.                           0.009204\n",
       "Compass Productions                                     0.009204\n",
       "Detention Films                                         0.009204\n",
       "Schuetzle Company Productions                           0.009204\n",
       "Universal Cable Productions                             0.009204\n",
       "Room 9 Entertainment                                    0.009204\n",
       "Busy Bee Productions                                    0.009204\n",
       "East of Harlem (UK) Ltd                                 0.009204\n",
       "EveryWhere Studios                                      0.009204\n",
       "Pledge Productions                                      0.009204\n",
       "Name: production_company, Length: 7880, dtype: float64"
      ]
     },
     "execution_count": 26,
     "metadata": {},
     "output_type": "execute_result"
    }
   ],
   "source": [
    "# Since we have the production companies that have the highest revenue, we want to compare the number of movies\n",
    "# these companies have produced to make sure its not just because Warner Bros. produced to maximum number of movie.\n",
    "# We saw that although Universal has produced the max number of movies but Warner returned the highest revenue\n",
    "\n",
    "df_prod['production_company'].value_counts()*100/df['id'].count()"
   ]
  },
  {
   "cell_type": "markdown",
   "metadata": {},
   "source": [
    "#### Revenue against Casts"
   ]
  },
  {
   "cell_type": "code",
   "execution_count": 41,
   "metadata": {},
   "outputs": [
    {
     "data": {
      "image/png": "[encoded data removed]",
      "text/plain": [
       "<Figure size 432x288 with 1 Axes>"
      ]
     },
     "metadata": {
      "needs_background": "light"
     },
     "output_type": "display_data"
    }
   ],
   "source": [
    "# Plotting the total revenue by each cast reveals that max revenue has been returned by movies having Harrison Ford,\n",
    "# followed by Tom Cruise, and Tom Hanks\n",
    "\n",
    "df_cast.groupby('movie_cast')['revenue_adj'].sum().nlargest(10, keep='first').plot(kind='bar');\n",
    "plt.title('Revenue distribution by Casts');\n",
    "plt.xlabel('Casts');\n",
    "plt.ylabel('Revenue');"
   ]
  },
  {
   "cell_type": "code",
   "execution_count": 28,
   "metadata": {},
   "outputs": [
    {
     "data": {
      "text/plain": [
       "Not Available             0.699494\n",
       "Robert De Niro            0.662678\n",
       "Samuel L. Jackson         0.653474\n",
       "Bruce Willis              0.570640\n",
       "Nicolas Cage              0.561436\n",
       "Michael Caine             0.487805\n",
       "Robin Williams            0.469397\n",
       "John Cusack               0.460193\n",
       "John Goodman              0.450989\n",
       "Morgan Freeman            0.450989\n",
       "Susan Sarandon            0.441786\n",
       "Liam Neeson               0.441786\n",
       "Julianne Moore            0.432582\n",
       "Alec Baldwin              0.432582\n",
       "Tom Hanks                 0.423378\n",
       "Johnny Depp               0.423378\n",
       "Gene Hackman              0.423378\n",
       "Christopher Walken        0.423378\n",
       "Willem Dafoe              0.414174\n",
       "Dennis Quaid              0.414174\n",
       "Sylvester Stallone        0.414174\n",
       "Ed Harris                 0.404970\n",
       "Donald Sutherland         0.404970\n",
       "Clint Eastwood            0.404970\n",
       "Meryl Streep              0.404970\n",
       "Woody Harrelson           0.395766\n",
       "Ewan McGregor             0.395766\n",
       "Robert Downey Jr.         0.395766\n",
       "Antonio Banderas          0.395766\n",
       "Keanu Reeves              0.395766\n",
       "                            ...   \n",
       "Matthew Knight            0.009204\n",
       "Gail O'Grady              0.009204\n",
       "Grace Huang               0.009204\n",
       "John Hallam               0.009204\n",
       "Maurice Compte            0.009204\n",
       "Paul Hittscher            0.009204\n",
       "Misha Collins             0.009204\n",
       "Christopher Britton       0.009204\n",
       "Helmut Bakaitis           0.009204\n",
       "John Short                0.009204\n",
       "Dean Waite                0.009204\n",
       "Kathy Larson              0.009204\n",
       "Manuel Camacho            0.009204\n",
       "Garth Hudson              0.009204\n",
       "Zoe Tuckwell-Smith        0.009204\n",
       "Roger Beck                0.009204\n",
       "Katherine Ann McGregor    0.009204\n",
       "Jay Baker                 0.009204\n",
       "Hilary Dwyer              0.009204\n",
       "Manuel Tadros             0.009204\n",
       "Alexa Havins              0.009204\n",
       "Livio Badurina            0.009204\n",
       "David Wood                0.009204\n",
       "Carrie Lorraine           0.009204\n",
       "Richard Hawking           0.009204\n",
       "Remy Auberjonois          0.009204\n",
       "Eddy Mitchell             0.009204\n",
       "Brian McGuire             0.009204\n",
       "Baard Owe                 0.009204\n",
       "Hildegard Knef            0.009204\n",
       "Name: movie_cast, Length: 19027, dtype: float64"
      ]
     },
     "execution_count": 28,
     "metadata": {},
     "output_type": "execute_result"
    }
   ],
   "source": [
    "# Since we have the casts that have the highest revenue, we want to compare the number of movies these actors \n",
    "# have been in to make sure its not just because Harrison Ford, Tom Cruise were in the maximum number of movie.\n",
    "# We saw that although Harrison Ford, Tom Cruise, and Tom Hanks are not even in the top 10 list below\n",
    "\n",
    "df_cast['movie_cast'].value_counts()*100/df['id'].count()"
   ]
  },
  {
   "cell_type": "markdown",
   "metadata": {},
   "source": [
    "#### Revenue against Directors"
   ]
  },
  {
   "cell_type": "code",
   "execution_count": 42,
   "metadata": {},
   "outputs": [
    {
     "data": {
      "image/png": "[encoded data removed]",
      "text/plain": [
       "<Figure size 432x288 with 1 Axes>"
      ]
     },
     "metadata": {
      "needs_background": "light"
     },
     "output_type": "display_data"
    }
   ],
   "source": [
    "# Plotting the total revenue by each director reveals that max revenue has been returned by movies directed by\n",
    "# Steven Spielberg with James Cameron been second on the list with half of total revenue from Steven's movies|\n",
    "\n",
    "df.groupby('director')['revenue_adj'].sum().nlargest(10, keep='first').plot(kind='bar');\n",
    "plt.title('Revenue distribution by Directors');\n",
    "plt.xlabel('Directors');\n",
    "plt.ylabel('Revenue');"
   ]
  },
  {
   "cell_type": "code",
   "execution_count": 30,
   "metadata": {},
   "outputs": [
    {
     "data": {
      "text/plain": [
       "Woody Allen                                    0.414174\n",
       "Not Available                                  0.404970\n",
       "Clint Eastwood                                 0.312931\n",
       "Steven Spielberg                               0.266912\n",
       "Martin Scorsese                                0.266912\n",
       "Ridley Scott                                   0.211689\n",
       "Ron Howard                                     0.202485\n",
       "Steven Soderbergh                              0.202485\n",
       "Joel Schumacher                                0.193281\n",
       "Brian De Palma                                 0.184077\n",
       "Tim Burton                                     0.174873\n",
       "Wes Craven                                     0.174873\n",
       "Barry Levinson                                 0.174873\n",
       "John Carpenter                                 0.165670\n",
       "Rob Reiner                                     0.165670\n",
       "Mike Nichols                                   0.165670\n",
       "David Cronenberg                               0.165670\n",
       "Sidney Lumet                                   0.156466\n",
       "Spike Lee                                      0.156466\n",
       "Robert Zemeckis                                0.156466\n",
       "Stephen Frears                                 0.156466\n",
       "Norman Jewison                                 0.156466\n",
       "Renny Harlin                                   0.156466\n",
       "Tyler Perry                                    0.156466\n",
       "Peter Hyams                                    0.156466\n",
       "Walter Hill                                    0.156466\n",
       "Oliver Stone                                   0.156466\n",
       "Francis Ford Coppola                           0.156466\n",
       "Richard Linklater                              0.147262\n",
       "Blake Edwards                                  0.147262\n",
       "                                                 ...   \n",
       "Mark A. Lewis                                  0.009204\n",
       "Daniel Taplitz                                 0.009204\n",
       "John Korty                                     0.009204\n",
       "Dan Mazer                                      0.009204\n",
       "Blair Erickson                                 0.009204\n",
       "Andy Bichlbaum|Mike Bonanno|Kurt Engfehr       0.009204\n",
       "Coley Sohn                                     0.009204\n",
       "Garrett Brawith                                0.009204\n",
       "Sam Dunn|Scot McFadyen|Jessica Joy Wise        0.009204\n",
       "Hans Petter Moland                             0.009204\n",
       "Riccardo Paoletti                              0.009204\n",
       "Corin Hardy                                    0.009204\n",
       "Michael McCullers                              0.009204\n",
       "Peter Harris|Eric Till                         0.009204\n",
       "Andrea Molaioli                                0.009204\n",
       "Howard Storm                                   0.009204\n",
       "Ben Lewin                                      0.009204\n",
       "Andrew Renzi                                   0.009204\n",
       "Francesca Gregorini|Tatiana von Furstenberg    0.009204\n",
       "Atsushi Takeuchi                               0.009204\n",
       "RÃ©mi BezanÃ§on                                0.009204\n",
       "C.B. Harding                                   0.009204\n",
       "Carles Torrens                                 0.009204\n",
       "J.M.R. Luna                                    0.009204\n",
       "Peter Hall                                     0.009204\n",
       "Gary Katona|Ed Wexler                          0.009204\n",
       "David McKay                                    0.009204\n",
       "Bill Pohlad                                    0.009204\n",
       "Don Michael Paul|Bibo Bergeron                 0.009204\n",
       "Bob Spiers                                     0.009204\n",
       "Name: director, Length: 5068, dtype: float64"
      ]
     },
     "execution_count": 30,
     "metadata": {},
     "output_type": "execute_result"
    }
   ],
   "source": [
    "# Since we have the directors that have the highest revenue, we want to compare the number of movies directed by them \n",
    "# in order to make sure its not just because Steven Spielberg directed the maximum number of movies.\n",
    "# We see that Steven Spielberg has only produced 2% of the movies with Woody Allen leading the list\n",
    "\n",
    "df['director'].value_counts()*100/df['id'].count()"
   ]
  },
  {
   "cell_type": "markdown",
   "metadata": {},
   "source": [
    "### Research Question 2  \n",
    "#### What type of movies have high ratings?\n",
    "> For this question, since we are trying to find the characteristics of movies with high rating, we will be using 'vote_average' column as the dependent variable and rest all columns as independent variables.\n",
    "\n",
    "Note: From the heatmap under Question 1, we were able to conclude no correlation between revenue_adj and vote_average. Taking a setp further we will see what kind of movies people vote high and actually enjoy!"
   ]
  },
  {
   "cell_type": "code",
   "execution_count": 31,
   "metadata": {
    "collapsed": true
   },
   "outputs": [
    {
     "data": {
      "text/plain": [
       "<matplotlib.axes._subplots.AxesSubplot at 0x1a21dd4c50>"
      ]
     },
     "execution_count": 31,
     "metadata": {},
     "output_type": "execute_result"
    },
    {
     "data": {
      "image/png": "[encoded data removed]",
      "text/plain": [
       "<Figure size 432x288 with 2 Axes>"
      ]
     },
     "metadata": {
      "needs_background": "light"
     },
     "output_type": "display_data"
    }
   ],
   "source": [
    "# As a starting step, we would want to see the relationsip of all the columns with vote_average\n",
    "# To explore this relationship, we wil produce a heat map which will show correlation for all the numeric columns\n",
    "# The heatmap depicts, vote_average has no strong corrlation with any of these data fields\n",
    "\n",
    "sns.heatmap(df.corr())"
   ]
  },
  {
   "cell_type": "markdown",
   "metadata": {},
   "source": [
    "#### Now that we have seen 'vote_average' has no relationship with any of the numeric values, we will see if it is impacted by the categorical columns.\n",
    "For this part of analyses, we will again be using the new dataframes that we had created in Data Wrangling section and see how if at all genre, casts, director, and production companies impacts the rating.\n",
    "\n",
    "We would first define what do we consider as 'high' rating. For our project, any movie having rating greater than the mean vote_average will be considered having a high rating."
   ]
  },
  {
   "cell_type": "code",
   "execution_count": 32,
   "metadata": {},
   "outputs": [
    {
     "data": {
      "image/png": "[encoded data removed]",
      "text/plain": [
       "<Figure size 576x864 with 12 Axes>"
      ]
     },
     "metadata": {
      "needs_background": "light"
     },
     "output_type": "display_data"
    }
   ],
   "source": [
    "# Looking at distribution of different columns for vote_average greater than mean\n",
    " \n",
    "df.query(\"vote_average >= vote_average.mean()\").hist(figsize=(8,12));"
   ]
  },
  {
   "cell_type": "markdown",
   "metadata": {},
   "source": [
    "#### Vote Count against Genre"
   ]
  },
  {
   "cell_type": "code",
   "execution_count": 33,
   "metadata": {},
   "outputs": [
    {
     "data": {
      "text/plain": [
       "genre\n",
       "Documentary        6.908462\n",
       "Music              6.480392\n",
       "Not Available      6.421739\n",
       "History            6.410479\n",
       "Animation          6.403147\n",
       "War                6.297778\n",
       "Drama              6.165546\n",
       "Crime              6.124889\n",
       "Western            6.083030\n",
       "Romance            6.042874\n",
       "Family             5.997563\n",
       "Foreign            5.981383\n",
       "Mystery            5.946790\n",
       "Adventure          5.940585\n",
       "Comedy             5.905167\n",
       "Fantasy            5.863537\n",
       "TV Movie           5.788024\n",
       "Action             5.787752\n",
       "Thriller           5.750671\n",
       "Science Fiction    5.665582\n",
       "Horror             5.337447\n",
       "Name: vote_average, dtype: float64"
      ]
     },
     "execution_count": 33,
     "metadata": {},
     "output_type": "execute_result"
    }
   ],
   "source": [
    "# On an average almost all the genres have a similar range for rating i.e. between 5-7\n",
    "# Although we see 'Documentary' having the highest average followed by 'Music' but since the averages are very close,\n",
    "# it is hard to conclude much from this insight.\n",
    "\n",
    "df_genre.groupby('genre')['vote_average'].mean().sort_values(ascending=False)"
   ]
  },
  {
   "cell_type": "markdown",
   "metadata": {},
   "source": [
    "##### As an alternative to the above step, we would like to see how many high rated movies do we have under each genre, production company, casts, and director"
   ]
  },
  {
   "cell_type": "code",
   "execution_count": 34,
   "metadata": {},
   "outputs": [
    {
     "data": {
      "text/plain": [
       "5810"
      ]
     },
     "execution_count": 34,
     "metadata": {},
     "output_type": "execute_result"
    }
   ],
   "source": [
    "# First lets see how many total high rated movies do we have in the dataset\n",
    "high_rated_movies = df.query(\"vote_average >= vote_average.mean()\")['id'].count()\n",
    "high_rated_movies"
   ]
  },
  {
   "cell_type": "code",
   "execution_count": 35,
   "metadata": {},
   "outputs": [
    {
     "data": {
      "text/plain": [
       "genre\n",
       "Drama              4760\n",
       "Comedy             3793\n",
       "Thriller           2907\n",
       "Action             2384\n",
       "Romance            1712\n",
       "Horror             1637\n",
       "Adventure          1471\n",
       "Crime              1354\n",
       "Family             1231\n",
       "Science Fiction    1229\n",
       "Fantasy             916\n",
       "Mystery             810\n",
       "Animation           699\n",
       "Documentary         520\n",
       "Music               408\n",
       "History             334\n",
       "War                 270\n",
       "Foreign             188\n",
       "TV Movie            167\n",
       "Western             165\n",
       "Not Available        23\n",
       "Name: id, dtype: int64"
      ]
     },
     "execution_count": 35,
     "metadata": {},
     "output_type": "execute_result"
    }
   ],
   "source": [
    "# We will also calculate the total number of movies we have within each genre\n",
    "# Since most of the movies have more than 1 genre, total below will not equal the count of unique ids\n",
    "genre_total_movies = df_genre.groupby('genre')['id'].count().sort_values(ascending=False)\n",
    "genre_total_movies"
   ]
  },
  {
   "cell_type": "code",
   "execution_count": 36,
   "metadata": {},
   "outputs": [
    {
     "data": {
      "text/plain": [
       "Drama              2982\n",
       "Comedy             1865\n",
       "Thriller           1291\n",
       "Action             1109\n",
       "Romance             977\n",
       "Crime               820\n",
       "Adventure           771\n",
       "Family              657\n",
       "Science Fiction     527\n",
       "Animation           513\n",
       "Documentary         465\n",
       "Horror              451\n",
       "Fantasy             445\n",
       "Mystery             429\n",
       "Music               299\n",
       "History             257\n",
       "War                 183\n",
       "Foreign             103\n",
       "Western             100\n",
       "TV Movie             77\n",
       "Not Available        15\n",
       "Name: genre, dtype: int64"
      ]
     },
     "execution_count": 36,
     "metadata": {},
     "output_type": "execute_result"
    }
   ],
   "source": [
    "# Calculate the total high rated movies we have within each genre\n",
    "genre_high_rated = df_genre.query(\"vote_average >= vote_average.mean()\")['genre'].value_counts()\n",
    "genre_high_rated"
   ]
  },
  {
   "cell_type": "markdown",
   "metadata": {},
   "source": [
    "#### Looking at the above numbers alone might not add much value unless we plot their distribution against the total number of high movies and total number of movies within each genre"
   ]
  },
  {
   "cell_type": "code",
   "execution_count": 37,
   "metadata": {},
   "outputs": [
    {
     "data": {
      "text/plain": [
       "Drama              51.325301\n",
       "Comedy             32.099828\n",
       "Thriller           22.220310\n",
       "Action             19.087780\n",
       "Romance            16.815835\n",
       "Crime              14.113597\n",
       "Adventure          13.270224\n",
       "Family             11.308090\n",
       "Science Fiction     9.070568\n",
       "Animation           8.829604\n",
       "Documentary         8.003442\n",
       "Horror              7.762478\n",
       "Fantasy             7.659208\n",
       "Mystery             7.383821\n",
       "Music               5.146299\n",
       "History             4.423408\n",
       "War                 3.149742\n",
       "Foreign             1.772806\n",
       "Western             1.721170\n",
       "TV Movie            1.325301\n",
       "Not Available       0.258176\n",
       "Name: genre, dtype: float64"
      ]
     },
     "execution_count": 37,
     "metadata": {},
     "output_type": "execute_result"
    }
   ],
   "source": [
    "# Calculating the distribution of high rated movies within each genre as a percent of total high rated movies\n",
    "(genre_high_rated*100/high_rated_movies)"
   ]
  },
  {
   "cell_type": "code",
   "execution_count": 38,
   "metadata": {},
   "outputs": [
    {
     "data": {
      "text/plain": [
       "Documentary        89.423077\n",
       "History            76.946108\n",
       "Animation          73.390558\n",
       "Music              73.284314\n",
       "War                67.777778\n",
       "Not Available      65.217391\n",
       "Drama              62.647059\n",
       "Western            60.606061\n",
       "Crime              60.561300\n",
       "Romance            57.067757\n",
       "Foreign            54.787234\n",
       "Family             53.371243\n",
       "Mystery            52.962963\n",
       "Adventure          52.413324\n",
       "Comedy             49.169523\n",
       "Fantasy            48.580786\n",
       "Action             46.518456\n",
       "TV Movie           46.107784\n",
       "Thriller           44.410045\n",
       "Science Fiction    42.880391\n",
       "Horror             27.550397\n",
       "dtype: float64"
      ]
     },
     "execution_count": 38,
     "metadata": {},
     "output_type": "execute_result"
    }
   ],
   "source": [
    "# Calculating the distribution of high rated movies within each genre as a percent of total movies in that genre\n",
    "(genre_high_rated*100/genre_total_movies).sort_values(ascending=False)"
   ]
  },
  {
   "cell_type": "markdown",
   "metadata": {},
   "source": [
    "##### From the analyses above, we see that although Drama has the highest number of high rated movies significantly more than any other genre, it is also because it has the highest number of movies in total (51%). In real, 62% of the total Drama movies are high rated. Similar is the case with Comedy, Thriller, and Action with 49%, 47%, and 45% high rated movies of their totals respectively.\n",
    "\n",
    "##### If we just consider the percent of high rated movies as a percent of total movies within that genre, Documentary (which is 8% of the total movies) leads the list with ~90%, followed by  History 77%, and Animation 73% (which is only 5% and 9% of the total produced movies).\n"
   ]
  },
  {
   "cell_type": "markdown",
   "metadata": {},
   "source": [
    "#### Vote Count against Production Companies"
   ]
  },
  {
   "cell_type": "code",
   "execution_count": 39,
   "metadata": {},
   "outputs": [
    {
     "data": {
      "text/plain": [
       "Not Available                             1030\n",
       "Universal Pictures                         522\n",
       "Warner Bros.                               509\n",
       "Paramount Pictures                         431\n",
       "Twentieth Century Fox Film Corporation     282\n",
       "Columbia Pictures                          272\n",
       "New Line Cinema                            219\n",
       "Metro-Goldwyn-Mayer (MGM)                  218\n",
       "Walt Disney Pictures                       214\n",
       "Touchstone Pictures                        178\n",
       "Name: production_company, dtype: int64"
      ]
     },
     "execution_count": 39,
     "metadata": {},
     "output_type": "execute_result"
    }
   ],
   "source": [
    "# Calculate the total number of movies for the top 10 production companies\n",
    "tot_top_10 = df_prod['production_company'].value_counts().nlargest(10, keep='first')\n",
    "tot_top_10"
   ]
  },
  {
   "cell_type": "code",
   "execution_count": 40,
   "metadata": {},
   "outputs": [
    {
     "data": {
      "text/plain": [
       "Not Available                             573\n",
       "Warner Bros.                              307\n",
       "Universal Pictures                        302\n",
       "Paramount Pictures                        266\n",
       "Twentieth Century Fox Film Corporation    166\n",
       "Columbia Pictures                         148\n",
       "Walt Disney Pictures                      129\n",
       "Metro-Goldwyn-Mayer (MGM)                 125\n",
       "New Line Cinema                           115\n",
       "Touchstone Pictures                       103\n",
       "Name: production_company, dtype: int64"
      ]
     },
     "execution_count": 40,
     "metadata": {},
     "output_type": "execute_result"
    }
   ],
   "source": [
    "# Calculate the total high rated movies for the top 10 production companies\n",
    "prod_high_rated = df_prod.query(\"vote_average >= vote_average.mean()\")['production_company'].\\\n",
    "                value_counts().nlargest(10, keep='first')\n",
    "prod_high_rated"
   ]
  },
  {
   "cell_type": "code",
   "execution_count": 41,
   "metadata": {},
   "outputs": [
    {
     "data": {
      "text/plain": [
       "Paramount Pictures                        61.716937\n",
       "Warner Bros.                              60.314342\n",
       "Walt Disney Pictures                      60.280374\n",
       "Twentieth Century Fox Film Corporation    58.865248\n",
       "Touchstone Pictures                       57.865169\n",
       "Universal Pictures                        57.854406\n",
       "Metro-Goldwyn-Mayer (MGM)                 57.339450\n",
       "Not Available                             55.631068\n",
       "Columbia Pictures                         54.411765\n",
       "New Line Cinema                           52.511416\n",
       "Name: production_company, dtype: float64"
      ]
     },
     "execution_count": 41,
     "metadata": {},
     "output_type": "execute_result"
    }
   ],
   "source": [
    "# percent of high rated as a percent of total movies produced by that production company\n",
    "(prod_high_rated*100/tot_top_10).sort_values(ascending=False)"
   ]
  },
  {
   "cell_type": "code",
   "execution_count": 42,
   "metadata": {},
   "outputs": [
    {
     "data": {
      "text/plain": [
       "Not Available                             9.862306\n",
       "Warner Bros.                              5.283993\n",
       "Universal Pictures                        5.197935\n",
       "Paramount Pictures                        4.578313\n",
       "Twentieth Century Fox Film Corporation    2.857143\n",
       "Columbia Pictures                         2.547332\n",
       "Walt Disney Pictures                      2.220310\n",
       "Metro-Goldwyn-Mayer (MGM)                 2.151463\n",
       "New Line Cinema                           1.979346\n",
       "Touchstone Pictures                       1.772806\n",
       "Name: production_company, dtype: float64"
      ]
     },
     "execution_count": 42,
     "metadata": {},
     "output_type": "execute_result"
    }
   ],
   "source": [
    "# Calculate distribution of high rated movies within each production company as a percent of total high rated movies\n",
    "(prod_high_rated*100/high_rated_movies).nlargest(10, keep='first')\n",
    "#.plot(kind='bar', figsize=(12,4));"
   ]
  },
  {
   "cell_type": "markdown",
   "metadata": {},
   "source": [
    "##### From the analyses above, we see that the top 10 prodcution companies have ~55%-60% of the produced movies as high rated. Warner Bros., Universal, and Paramount are the top 3 production companies in terms of the highest number of total with all three having ~60% of their produced movies as highly rated. These 3 production companies together make ~20% of the total highly rated movies and  top 10 contributing to 40% of the total highly rated movies."
   ]
  },
  {
   "cell_type": "markdown",
   "metadata": {},
   "source": [
    "#### Vote Count against Casts"
   ]
  },
  {
   "cell_type": "code",
   "execution_count": 43,
   "metadata": {},
   "outputs": [
    {
     "data": {
      "text/plain": [
       "Not Available        76\n",
       "Robert De Niro       72\n",
       "Samuel L. Jackson    71\n",
       "Bruce Willis         62\n",
       "Nicolas Cage         61\n",
       "Michael Caine        53\n",
       "Robin Williams       51\n",
       "John Cusack          50\n",
       "John Goodman         49\n",
       "Morgan Freeman       49\n",
       "Name: movie_cast, dtype: int64"
      ]
     },
     "execution_count": 43,
     "metadata": {},
     "output_type": "execute_result"
    }
   ],
   "source": [
    "# Calculate the total number of movies for the top 10 casts\n",
    "cast_top_10 = df_cast['movie_cast'].value_counts().nlargest(10, keep='first')\n",
    "cast_top_10"
   ]
  },
  {
   "cell_type": "code",
   "execution_count": 44,
   "metadata": {
    "collapsed": true
   },
   "outputs": [
    {
     "data": {
      "text/plain": [
       "Not Available        66\n",
       "Robert De Niro       49\n",
       "Johnny Depp          36\n",
       "Samuel L. Jackson    36\n",
       "Meryl Streep         36\n",
       "Michael Caine        36\n",
       "Gene Hackman         34\n",
       "Denzel Washington    34\n",
       "Brad Pitt            34\n",
       "Tom Hanks            34\n",
       "Name: movie_cast, dtype: int64"
      ]
     },
     "execution_count": 44,
     "metadata": {},
     "output_type": "execute_result"
    }
   ],
   "source": [
    "# Calculate the total high rated movies for the top 10 casts\n",
    "cast_high_rated = df_cast.query(\"vote_average >= vote_average.mean()\")['movie_cast'].\\\n",
    "                value_counts().nlargest(10, keep='first')\n",
    "cast_high_rated"
   ]
  },
  {
   "cell_type": "code",
   "execution_count": 45,
   "metadata": {},
   "outputs": [
    {
     "data": {
      "text/plain": [
       "Not Available        86.842105\n",
       "Robert De Niro       68.055556\n",
       "Michael Caine        67.924528\n",
       "Samuel L. Jackson    50.704225\n",
       "Brad Pitt                  NaN\n",
       "Bruce Willis               NaN\n",
       "Denzel Washington          NaN\n",
       "Gene Hackman               NaN\n",
       "John Cusack                NaN\n",
       "John Goodman               NaN\n",
       "Johnny Depp                NaN\n",
       "Meryl Streep               NaN\n",
       "Morgan Freeman             NaN\n",
       "Nicolas Cage               NaN\n",
       "Robin Williams             NaN\n",
       "Tom Hanks                  NaN\n",
       "Name: movie_cast, dtype: float64"
      ]
     },
     "execution_count": 45,
     "metadata": {},
     "output_type": "execute_result"
    }
   ],
   "source": [
    "(cast_high_rated*100/cast_top_10).sort_values(ascending=False)"
   ]
  },
  {
   "cell_type": "markdown",
   "metadata": {},
   "source": [
    "##### From the analyses above, we see that there are only 3 actors who make it to the top 10 total and top 10 high rated movie list. Robert De Niro leading the list with highest number of movies and ~70% of those being rated high. Followed by Michael Caine who is in the top 5 for highest number of movies and also has 70% of those as high rated. Samuel L. Jackson who has the 2nd highest total number of movies has 50% of those as high rated."
   ]
  },
  {
   "cell_type": "markdown",
   "metadata": {},
   "source": [
    "#### Vote Count against Directors"
   ]
  },
  {
   "cell_type": "code",
   "execution_count": 46,
   "metadata": {},
   "outputs": [
    {
     "data": {
      "text/plain": [
       "Woody Allen          45\n",
       "Not Available        44\n",
       "Clint Eastwood       34\n",
       "Steven Spielberg     29\n",
       "Martin Scorsese      29\n",
       "Ridley Scott         23\n",
       "Ron Howard           22\n",
       "Steven Soderbergh    22\n",
       "Joel Schumacher      21\n",
       "Brian De Palma       20\n",
       "Name: director, dtype: int64"
      ]
     },
     "execution_count": 46,
     "metadata": {},
     "output_type": "execute_result"
    }
   ],
   "source": [
    "# Calculate the total number of movies for the top 10 directors\n",
    "dir_top_10 = df['director'].value_counts().nlargest(10, keep='first')\n",
    "dir_top_10"
   ]
  },
  {
   "cell_type": "code",
   "execution_count": 47,
   "metadata": {},
   "outputs": [
    {
     "data": {
      "text/plain": [
       "Not Available        37\n",
       "Woody Allen          35\n",
       "Martin Scorsese      26\n",
       "Clint Eastwood       26\n",
       "Steven Spielberg     25\n",
       "Ridley Scott         19\n",
       "Ron Howard           18\n",
       "Steven Soderbergh    16\n",
       "Tim Burton           16\n",
       "Tyler Perry          16\n",
       "Name: director, dtype: int64"
      ]
     },
     "execution_count": 47,
     "metadata": {},
     "output_type": "execute_result"
    }
   ],
   "source": [
    "# Calculate the total high rated movies for the top 10 directors\n",
    "dir_high_rated = df.query(\"vote_average >= vote_average.mean()\")['director'].\\\n",
    "                value_counts().nlargest(10, keep='first')\n",
    "dir_high_rated"
   ]
  },
  {
   "cell_type": "code",
   "execution_count": 48,
   "metadata": {},
   "outputs": [
    {
     "data": {
      "text/plain": [
       "Martin Scorsese      89.655172\n",
       "Steven Spielberg     86.206897\n",
       "Not Available        84.090909\n",
       "Ridley Scott         82.608696\n",
       "Ron Howard           81.818182\n",
       "Woody Allen          77.777778\n",
       "Clint Eastwood       76.470588\n",
       "Steven Soderbergh    72.727273\n",
       "Brian De Palma             NaN\n",
       "Joel Schumacher            NaN\n",
       "Tim Burton                 NaN\n",
       "Tyler Perry                NaN\n",
       "Name: director, dtype: float64"
      ]
     },
     "execution_count": 48,
     "metadata": {},
     "output_type": "execute_result"
    }
   ],
   "source": [
    "(dir_high_rated*100/dir_top_10).sort_values(ascending=False)"
   ]
  },
  {
   "cell_type": "markdown",
   "metadata": {},
   "source": [
    "##### From the above analyses, we see that Woody Allen leads the list with highest number of total directed movies with ~78% of those being high rated. Martin Scorsese and Steven Spielberg who also are in the top 5 list of total movies directed have more than 85% of those movies as high rated. Closely being followed by Clint Eastwood and Ridley Soctt who are in the top 5 and have ~80% of their movies as high rated. \n",
    " "
   ]
  },
  {
   "cell_type": "markdown",
   "metadata": {},
   "source": [
    "### Research Question 3  \n",
    "#### How has the trend for number of movie released and movie popularity changed over years?\n",
    "> For this question, since we are trying to find the trend, we will be using 'popularity', and 'genre' as the dependent variable and 'release_year' as independent variables."
   ]
  },
  {
   "cell_type": "markdown",
   "metadata": {},
   "source": [
    "#### Trend for number of movies relased over years"
   ]
  },
  {
   "cell_type": "code",
   "execution_count": 43,
   "metadata": {},
   "outputs": [
    {
     "data": {
      "image/png": "[encoded data removed]",
      "text/plain": [
       "<Figure size 864x288 with 1 Axes>"
      ]
     },
     "metadata": {
      "needs_background": "light"
     },
     "output_type": "display_data"
    }
   ],
   "source": [
    "# Looking at the total number of movies released every year over the last 55 years\n",
    "df_genre.groupby('release_year')['id'].count().plot(kind='line',figsize=(12,4));\n",
    "plt.title('Number of movies released trend over years');\n",
    "plt.xlabel('Years');\n",
    "plt.ylabel('Number of movies released');"
   ]
  },
  {
   "cell_type": "markdown",
   "metadata": {},
   "source": [
    "##### On an yearly basis, we see that there might be few dips and peaks but the overall number of released movies trend over years has tremedously increased from 1960 to 2015. One significant dip is seen in 2009 which can be related to the 2008 market crash impacting the whole economy including movie industry."
   ]
  },
  {
   "cell_type": "code",
   "execution_count": 45,
   "metadata": {
    "scrolled": true
   },
   "outputs": [],
   "source": [
    "# Looking at the trend of number of movies produced in the top 3 genres over years\n",
    "# Finding the number of movies in Drama, Comedy and Action grouped by release year\n",
    "\n",
    "drama_trend = df_genre[df_genre['genre']=='Drama'].groupby('release_year')['id'].count()\n",
    "comedy_trend = df_genre[df_genre['genre']=='Comedy'].groupby('release_year')['id'].count()\n",
    "action_trend = df_genre[df_genre['genre']=='Action'].groupby('release_year')['id'].count()\n",
    "#.plot(kind='bar', figsize=(12,4));"
   ]
  },
  {
   "cell_type": "code",
   "execution_count": 47,
   "metadata": {},
   "outputs": [
    {
     "data": {
      "image/png": "[encoded data removed]",
      "text/plain": [
       "<Figure size 960x320 with 1 Axes>"
      ]
     },
     "metadata": {},
     "output_type": "display_data"
    }
   ],
   "source": [
    "# Potting the overlapping bars for the 3 genres and using figure to fit the size\n",
    "\n",
    "figure(num=None, figsize=(12, 4), dpi=80, facecolor='w', edgecolor='k')\n",
    "\n",
    "width = 0.8\n",
    "plt.bar(drama_trend.index, drama_trend, width=width, color='c', label='Drama');\n",
    "plt.bar(drama_trend.index+0.25, comedy_trend, width=0.3*width, color='b', alpha=0.8, label='Comedy')\n",
    "plt.bar(drama_trend.index+0.25, action_trend, width=0.5*width, color='r', alpha=0.7, label='Action')\n",
    "\n",
    "plt.title('Number of movies released in Drama, Comedy, and Action genre over years');\n",
    "plt.xlabel('Years');\n",
    "plt.ylabel('Number of movies released');\n",
    "\n",
    "plt.legend()\n",
    "plt.show()"
   ]
  },
  {
   "cell_type": "markdown",
   "metadata": {},
   "source": [
    "##### As the number of movies over year increases, we see the number of movies in the top 3 genres 'Drama', 'Comedy', 'Action'  also increases"
   ]
  },
  {
   "cell_type": "markdown",
   "metadata": {},
   "source": [
    "#### Movie popularity trend over years"
   ]
  },
  {
   "cell_type": "code",
   "execution_count": 49,
   "metadata": {},
   "outputs": [],
   "source": [
    "# We also plot the highest popularity average for every genre for the last 55 years to see how the demand of movies \n",
    "# has changed overtime\n",
    "# To do this, first we too the average of popularity for every year and genre\n",
    "# Then took the max popularity for every year to see which genre was the most popular in that year\n",
    "# Merging both the datasets to have evrything in merge_df\n",
    "\n",
    "year_genre_pop = df_genre.groupby(by = ['release_year','genre'], as_index = False)['popularity'].mean()\n",
    "year_max_pop = year_genre_pop.groupby('release_year', as_index = False)['popularity'].max()\n",
    "year_max_pop.rename(columns={'popularity':'popularity_max'}, inplace=True)\n",
    "merge_df= pd.merge(year_genre_pop, year_max_pop, how='right', on=['release_year'])\n",
    "\n",
    "merge_df_unique = merge_df.query('popularity_max == popularity')"
   ]
  },
  {
   "cell_type": "code",
   "execution_count": 50,
   "metadata": {},
   "outputs": [
    {
     "data": {
      "text/html": [
       "<div>\n",
       "<style scoped>\n",
       "    .dataframe tbody tr th:only-of-type {\n",
       "        vertical-align: middle;\n",
       "    }\n",
       "\n",
       "    .dataframe tbody tr th {\n",
       "        vertical-align: top;\n",
       "    }\n",
       "\n",
       "    .dataframe thead th {\n",
       "        text-align: right;\n",
       "    }\n",
       "</style>\n",
       "<table border=\"1\" class=\"dataframe\">\n",
       "  <thead>\n",
       "    <tr style=\"text-align: right;\">\n",
       "      <th></th>\n",
       "      <th>release_year</th>\n",
       "      <th>genre</th>\n",
       "      <th>popularity</th>\n",
       "      <th>popularity_max</th>\n",
       "    </tr>\n",
       "  </thead>\n",
       "  <tbody>\n",
       "    <tr>\n",
       "      <th>13</th>\n",
       "      <td>1960</td>\n",
       "      <td>Thriller</td>\n",
       "      <td>0.811910</td>\n",
       "      <td>0.811910</td>\n",
       "    </tr>\n",
       "    <tr>\n",
       "      <th>18</th>\n",
       "      <td>1961</td>\n",
       "      <td>Animation</td>\n",
       "      <td>2.631987</td>\n",
       "      <td>2.631987</td>\n",
       "    </tr>\n",
       "    <tr>\n",
       "      <th>34</th>\n",
       "      <td>1962</td>\n",
       "      <td>Adventure</td>\n",
       "      <td>0.942513</td>\n",
       "      <td>0.942513</td>\n",
       "    </tr>\n",
       "    <tr>\n",
       "      <th>52</th>\n",
       "      <td>1963</td>\n",
       "      <td>Animation</td>\n",
       "      <td>2.180410</td>\n",
       "      <td>2.180410</td>\n",
       "    </tr>\n",
       "    <tr>\n",
       "      <th>83</th>\n",
       "      <td>1964</td>\n",
       "      <td>War</td>\n",
       "      <td>0.930959</td>\n",
       "      <td>0.930959</td>\n",
       "    </tr>\n",
       "    <tr>\n",
       "      <th>95</th>\n",
       "      <td>1965</td>\n",
       "      <td>Music</td>\n",
       "      <td>0.968850</td>\n",
       "      <td>0.968850</td>\n",
       "    </tr>\n",
       "    <tr>\n",
       "      <th>105</th>\n",
       "      <td>1966</td>\n",
       "      <td>Animation</td>\n",
       "      <td>0.585717</td>\n",
       "      <td>0.585717</td>\n",
       "    </tr>\n",
       "    <tr>\n",
       "      <th>123</th>\n",
       "      <td>1967</td>\n",
       "      <td>Animation</td>\n",
       "      <td>1.348805</td>\n",
       "      <td>1.348805</td>\n",
       "    </tr>\n",
       "    <tr>\n",
       "      <th>149</th>\n",
       "      <td>1968</td>\n",
       "      <td>Mystery</td>\n",
       "      <td>1.519456</td>\n",
       "      <td>1.519456</td>\n",
       "    </tr>\n",
       "    <tr>\n",
       "      <th>159</th>\n",
       "      <td>1969</td>\n",
       "      <td>Crime</td>\n",
       "      <td>0.948020</td>\n",
       "      <td>0.948020</td>\n",
       "    </tr>\n",
       "    <tr>\n",
       "      <th>175</th>\n",
       "      <td>1970</td>\n",
       "      <td>Animation</td>\n",
       "      <td>1.127718</td>\n",
       "      <td>1.127718</td>\n",
       "    </tr>\n",
       "    <tr>\n",
       "      <th>200</th>\n",
       "      <td>1971</td>\n",
       "      <td>Family</td>\n",
       "      <td>1.530722</td>\n",
       "      <td>1.530722</td>\n",
       "    </tr>\n",
       "    <tr>\n",
       "      <th>201</th>\n",
       "      <td>1971</td>\n",
       "      <td>Fantasy</td>\n",
       "      <td>1.530722</td>\n",
       "      <td>1.530722</td>\n",
       "    </tr>\n",
       "    <tr>\n",
       "      <th>216</th>\n",
       "      <td>1972</td>\n",
       "      <td>Crime</td>\n",
       "      <td>1.072768</td>\n",
       "      <td>1.072768</td>\n",
       "    </tr>\n",
       "    <tr>\n",
       "      <th>230</th>\n",
       "      <td>1973</td>\n",
       "      <td>Animation</td>\n",
       "      <td>0.956526</td>\n",
       "      <td>0.956526</td>\n",
       "    </tr>\n",
       "    <tr>\n",
       "      <th>258</th>\n",
       "      <td>1974</td>\n",
       "      <td>Mystery</td>\n",
       "      <td>0.702035</td>\n",
       "      <td>0.702035</td>\n",
       "    </tr>\n",
       "    <tr>\n",
       "      <th>267</th>\n",
       "      <td>1975</td>\n",
       "      <td>Adventure</td>\n",
       "      <td>0.880297</td>\n",
       "      <td>0.880297</td>\n",
       "    </tr>\n",
       "    <tr>\n",
       "      <th>287</th>\n",
       "      <td>1976</td>\n",
       "      <td>Crime</td>\n",
       "      <td>0.707249</td>\n",
       "      <td>0.707249</td>\n",
       "    </tr>\n",
       "    <tr>\n",
       "      <th>303</th>\n",
       "      <td>1977</td>\n",
       "      <td>Action</td>\n",
       "      <td>1.419319</td>\n",
       "      <td>1.419319</td>\n",
       "    </tr>\n",
       "    <tr>\n",
       "      <th>333</th>\n",
       "      <td>1978</td>\n",
       "      <td>Music</td>\n",
       "      <td>0.679805</td>\n",
       "      <td>0.679805</td>\n",
       "    </tr>\n",
       "    <tr>\n",
       "      <th>341</th>\n",
       "      <td>1979</td>\n",
       "      <td>Action</td>\n",
       "      <td>1.410014</td>\n",
       "      <td>1.410014</td>\n",
       "    </tr>\n",
       "    <tr>\n",
       "      <th>370</th>\n",
       "      <td>1980</td>\n",
       "      <td>Science Fiction</td>\n",
       "      <td>0.897143</td>\n",
       "      <td>0.897143</td>\n",
       "    </tr>\n",
       "    <tr>\n",
       "      <th>376</th>\n",
       "      <td>1981</td>\n",
       "      <td>Adventure</td>\n",
       "      <td>0.875815</td>\n",
       "      <td>0.875815</td>\n",
       "    </tr>\n",
       "    <tr>\n",
       "      <th>411</th>\n",
       "      <td>1982</td>\n",
       "      <td>War</td>\n",
       "      <td>1.143183</td>\n",
       "      <td>1.143183</td>\n",
       "    </tr>\n",
       "    <tr>\n",
       "      <th>414</th>\n",
       "      <td>1983</td>\n",
       "      <td>Adventure</td>\n",
       "      <td>0.900596</td>\n",
       "      <td>0.900596</td>\n",
       "    </tr>\n",
       "    <tr>\n",
       "      <th>439</th>\n",
       "      <td>1984</td>\n",
       "      <td>Family</td>\n",
       "      <td>0.823924</td>\n",
       "      <td>0.823924</td>\n",
       "    </tr>\n",
       "    <tr>\n",
       "      <th>457</th>\n",
       "      <td>1985</td>\n",
       "      <td>Family</td>\n",
       "      <td>0.924311</td>\n",
       "      <td>0.924311</td>\n",
       "    </tr>\n",
       "    <tr>\n",
       "      <th>469</th>\n",
       "      <td>1986</td>\n",
       "      <td>Adventure</td>\n",
       "      <td>0.798935</td>\n",
       "      <td>0.798935</td>\n",
       "    </tr>\n",
       "    <tr>\n",
       "      <th>493</th>\n",
       "      <td>1987</td>\n",
       "      <td>History</td>\n",
       "      <td>0.815643</td>\n",
       "      <td>0.815643</td>\n",
       "    </tr>\n",
       "    <tr>\n",
       "      <th>503</th>\n",
       "      <td>1988</td>\n",
       "      <td>Action</td>\n",
       "      <td>0.599017</td>\n",
       "      <td>0.599017</td>\n",
       "    </tr>\n",
       "    <tr>\n",
       "      <th>524</th>\n",
       "      <td>1989</td>\n",
       "      <td>Animation</td>\n",
       "      <td>1.177585</td>\n",
       "      <td>1.177585</td>\n",
       "    </tr>\n",
       "    <tr>\n",
       "      <th>543</th>\n",
       "      <td>1990</td>\n",
       "      <td>Adventure</td>\n",
       "      <td>0.801768</td>\n",
       "      <td>0.801768</td>\n",
       "    </tr>\n",
       "    <tr>\n",
       "      <th>564</th>\n",
       "      <td>1991</td>\n",
       "      <td>Animation</td>\n",
       "      <td>1.665002</td>\n",
       "      <td>1.665002</td>\n",
       "    </tr>\n",
       "    <tr>\n",
       "      <th>583</th>\n",
       "      <td>1992</td>\n",
       "      <td>Animation</td>\n",
       "      <td>1.286893</td>\n",
       "      <td>1.286893</td>\n",
       "    </tr>\n",
       "    <tr>\n",
       "      <th>608</th>\n",
       "      <td>1993</td>\n",
       "      <td>Fantasy</td>\n",
       "      <td>0.918601</td>\n",
       "      <td>0.918601</td>\n",
       "    </tr>\n",
       "    <tr>\n",
       "      <th>623</th>\n",
       "      <td>1994</td>\n",
       "      <td>Crime</td>\n",
       "      <td>1.297888</td>\n",
       "      <td>1.297888</td>\n",
       "    </tr>\n",
       "    <tr>\n",
       "      <th>641</th>\n",
       "      <td>1995</td>\n",
       "      <td>Animation</td>\n",
       "      <td>1.467780</td>\n",
       "      <td>1.467780</td>\n",
       "    </tr>\n",
       "    <tr>\n",
       "      <th>663</th>\n",
       "      <td>1996</td>\n",
       "      <td>Crime</td>\n",
       "      <td>0.976838</td>\n",
       "      <td>0.976838</td>\n",
       "    </tr>\n",
       "    <tr>\n",
       "      <th>694</th>\n",
       "      <td>1997</td>\n",
       "      <td>Science Fiction</td>\n",
       "      <td>1.140241</td>\n",
       "      <td>1.140241</td>\n",
       "    </tr>\n",
       "    <tr>\n",
       "      <th>716</th>\n",
       "      <td>1998</td>\n",
       "      <td>War</td>\n",
       "      <td>1.246619</td>\n",
       "      <td>1.246619</td>\n",
       "    </tr>\n",
       "    <tr>\n",
       "      <th>719</th>\n",
       "      <td>1999</td>\n",
       "      <td>Adventure</td>\n",
       "      <td>1.012306</td>\n",
       "      <td>1.012306</td>\n",
       "    </tr>\n",
       "    <tr>\n",
       "      <th>739</th>\n",
       "      <td>2000</td>\n",
       "      <td>Adventure</td>\n",
       "      <td>0.854593</td>\n",
       "      <td>0.854593</td>\n",
       "    </tr>\n",
       "    <tr>\n",
       "      <th>767</th>\n",
       "      <td>2001</td>\n",
       "      <td>Fantasy</td>\n",
       "      <td>1.565260</td>\n",
       "      <td>1.565260</td>\n",
       "    </tr>\n",
       "    <tr>\n",
       "      <th>788</th>\n",
       "      <td>2002</td>\n",
       "      <td>Fantasy</td>\n",
       "      <td>1.430465</td>\n",
       "      <td>1.430465</td>\n",
       "    </tr>\n",
       "    <tr>\n",
       "      <th>808</th>\n",
       "      <td>2003</td>\n",
       "      <td>Fantasy</td>\n",
       "      <td>1.747524</td>\n",
       "      <td>1.747524</td>\n",
       "    </tr>\n",
       "    <tr>\n",
       "      <th>828</th>\n",
       "      <td>2004</td>\n",
       "      <td>Fantasy</td>\n",
       "      <td>1.320568</td>\n",
       "      <td>1.320568</td>\n",
       "    </tr>\n",
       "    <tr>\n",
       "      <th>848</th>\n",
       "      <td>2005</td>\n",
       "      <td>Fantasy</td>\n",
       "      <td>1.117732</td>\n",
       "      <td>1.117732</td>\n",
       "    </tr>\n",
       "    <tr>\n",
       "      <th>869</th>\n",
       "      <td>2006</td>\n",
       "      <td>Fantasy</td>\n",
       "      <td>1.023134</td>\n",
       "      <td>1.023134</td>\n",
       "    </tr>\n",
       "    <tr>\n",
       "      <th>889</th>\n",
       "      <td>2007</td>\n",
       "      <td>Fantasy</td>\n",
       "      <td>0.957349</td>\n",
       "      <td>0.957349</td>\n",
       "    </tr>\n",
       "    <tr>\n",
       "      <th>902</th>\n",
       "      <td>2008</td>\n",
       "      <td>Adventure</td>\n",
       "      <td>1.008385</td>\n",
       "      <td>1.008385</td>\n",
       "    </tr>\n",
       "    <tr>\n",
       "      <th>923</th>\n",
       "      <td>2009</td>\n",
       "      <td>Adventure</td>\n",
       "      <td>1.138422</td>\n",
       "      <td>1.138422</td>\n",
       "    </tr>\n",
       "    <tr>\n",
       "      <th>943</th>\n",
       "      <td>2010</td>\n",
       "      <td>Adventure</td>\n",
       "      <td>1.360319</td>\n",
       "      <td>1.360319</td>\n",
       "    </tr>\n",
       "    <tr>\n",
       "      <th>982</th>\n",
       "      <td>2011</td>\n",
       "      <td>Western</td>\n",
       "      <td>1.175800</td>\n",
       "      <td>1.175800</td>\n",
       "    </tr>\n",
       "    <tr>\n",
       "      <th>1003</th>\n",
       "      <td>2012</td>\n",
       "      <td>Western</td>\n",
       "      <td>1.732778</td>\n",
       "      <td>1.732778</td>\n",
       "    </tr>\n",
       "    <tr>\n",
       "      <th>1005</th>\n",
       "      <td>2013</td>\n",
       "      <td>Adventure</td>\n",
       "      <td>1.260832</td>\n",
       "      <td>1.260832</td>\n",
       "    </tr>\n",
       "    <tr>\n",
       "      <th>1025</th>\n",
       "      <td>2014</td>\n",
       "      <td>Adventure</td>\n",
       "      <td>2.430526</td>\n",
       "      <td>2.430526</td>\n",
       "    </tr>\n",
       "    <tr>\n",
       "      <th>1045</th>\n",
       "      <td>2015</td>\n",
       "      <td>Adventure</td>\n",
       "      <td>3.283786</td>\n",
       "      <td>3.283786</td>\n",
       "    </tr>\n",
       "  </tbody>\n",
       "</table>\n",
       "</div>"
      ],
      "text/plain": [
       "      release_year            genre  popularity  popularity_max\n",
       "13            1960         Thriller    0.811910        0.811910\n",
       "18            1961        Animation    2.631987        2.631987\n",
       "34            1962        Adventure    0.942513        0.942513\n",
       "52            1963        Animation    2.180410        2.180410\n",
       "83            1964              War    0.930959        0.930959\n",
       "95            1965            Music    0.968850        0.968850\n",
       "105           1966        Animation    0.585717        0.585717\n",
       "123           1967        Animation    1.348805        1.348805\n",
       "149           1968          Mystery    1.519456        1.519456\n",
       "159           1969            Crime    0.948020        0.948020\n",
       "175           1970        Animation    1.127718        1.127718\n",
       "200           1971           Family    1.530722        1.530722\n",
       "201           1971          Fantasy    1.530722        1.530722\n",
       "216           1972            Crime    1.072768        1.072768\n",
       "230           1973        Animation    0.956526        0.956526\n",
       "258           1974          Mystery    0.702035        0.702035\n",
       "267           1975        Adventure    0.880297        0.880297\n",
       "287           1976            Crime    0.707249        0.707249\n",
       "303           1977           Action    1.419319        1.419319\n",
       "333           1978            Music    0.679805        0.679805\n",
       "341           1979           Action    1.410014        1.410014\n",
       "370           1980  Science Fiction    0.897143        0.897143\n",
       "376           1981        Adventure    0.875815        0.875815\n",
       "411           1982              War    1.143183        1.143183\n",
       "414           1983        Adventure    0.900596        0.900596\n",
       "439           1984           Family    0.823924        0.823924\n",
       "457           1985           Family    0.924311        0.924311\n",
       "469           1986        Adventure    0.798935        0.798935\n",
       "493           1987          History    0.815643        0.815643\n",
       "503           1988           Action    0.599017        0.599017\n",
       "524           1989        Animation    1.177585        1.177585\n",
       "543           1990        Adventure    0.801768        0.801768\n",
       "564           1991        Animation    1.665002        1.665002\n",
       "583           1992        Animation    1.286893        1.286893\n",
       "608           1993          Fantasy    0.918601        0.918601\n",
       "623           1994            Crime    1.297888        1.297888\n",
       "641           1995        Animation    1.467780        1.467780\n",
       "663           1996            Crime    0.976838        0.976838\n",
       "694           1997  Science Fiction    1.140241        1.140241\n",
       "716           1998              War    1.246619        1.246619\n",
       "719           1999        Adventure    1.012306        1.012306\n",
       "739           2000        Adventure    0.854593        0.854593\n",
       "767           2001          Fantasy    1.565260        1.565260\n",
       "788           2002          Fantasy    1.430465        1.430465\n",
       "808           2003          Fantasy    1.747524        1.747524\n",
       "828           2004          Fantasy    1.320568        1.320568\n",
       "848           2005          Fantasy    1.117732        1.117732\n",
       "869           2006          Fantasy    1.023134        1.023134\n",
       "889           2007          Fantasy    0.957349        0.957349\n",
       "902           2008        Adventure    1.008385        1.008385\n",
       "923           2009        Adventure    1.138422        1.138422\n",
       "943           2010        Adventure    1.360319        1.360319\n",
       "982           2011          Western    1.175800        1.175800\n",
       "1003          2012          Western    1.732778        1.732778\n",
       "1005          2013        Adventure    1.260832        1.260832\n",
       "1025          2014        Adventure    2.430526        2.430526\n",
       "1045          2015        Adventure    3.283786        3.283786"
      ]
     },
     "execution_count": 50,
     "metadata": {},
     "output_type": "execute_result"
    }
   ],
   "source": [
    "merge_df_unique.head(60)\n",
    "#merge_df[merge_df['genre']=='Drama']"
   ]
  },
  {
   "cell_type": "code",
   "execution_count": 51,
   "metadata": {},
   "outputs": [
    {
     "data": {
      "image/png": "[encoded data removed]",
      "text/plain": [
       "<Figure size 960x320 with 1 Axes>"
      ]
     },
     "metadata": {},
     "output_type": "display_data"
    }
   ],
   "source": [
    "# Using merge_df to plot the highest avg. genre popularity by year\n",
    "figure(num=None, figsize=(12, 4), dpi=80, facecolor='w', edgecolor='k')\n",
    "\n",
    "plt.plot(merge_df_unique['release_year'], merge_df_unique['popularity_max']);\n",
    "plt.title('Movie popularity trend over years');\n",
    "plt.xlabel('Years');\n",
    "plt.ylabel('Movie Popularity');"
   ]
  },
  {
   "cell_type": "code",
   "execution_count": 54,
   "metadata": {},
   "outputs": [
    {
     "data": {
      "image/png": "[encoded data removed]",
      "text/plain": [
       "<Figure size 432x288 with 1 Axes>"
      ]
     },
     "metadata": {
      "needs_background": "light"
     },
     "output_type": "display_data"
    }
   ],
   "source": [
    "# Adventure has the highest popularity the maximum number of times (14) over years followed by Animation (10) times\n",
    "merge_df_unique.groupby('genre')['release_year'].count().sort_values(ascending=False).plot(kind = 'bar');\n",
    "plt.title('Highest \"average popularity\" by genre');\n",
    "plt.xlabel('Genre');\n",
    "plt.ylabel('Popularity');"
   ]
  },
  {
   "cell_type": "markdown",
   "metadata": {},
   "source": [
    "##### We see a very high popularity for movies in the begining 1961 after which it drops and follows many dips and peaks with hightest popularity for movies being in 2015. As seen above, the most popular genre over years has been Adventure and Animation. We also aligns with our analyses in Question1 , where we saw Adventure returned the 2nd highest revenue even with ~13% of the total movies and has ~53% of high rated movies In as seen in Question 2. Further digging into 'Adventure' also shows that on an average it has very high number of vote counts which aligns with our analyses since it is a quite popular genre, more people have watched and rated these movies. "
   ]
  },
  {
   "cell_type": "markdown",
   "metadata": {},
   "source": [
    "<a id='conclusions'></a>\n",
    "## Conclusions"
   ]
  },
  {
   "cell_type": "markdown",
   "metadata": {},
   "source": [
    "### From our analyses on the TMDb dataset, we have few conclusions which have been listed below:\n",
    "\n",
    "#### Revenue related conclusions\n",
    "- High revenue has been returned on movies which usually had high budget, popularity, vote_count. If we think about it, it makes sense since more the budget, more can be spend on movie promotions and can reach more people who would rate the movie. High budget also means they can afford to have a more expensive and high cast making the movie more desirable for people to watch.\n",
    "\n",
    "- The highest revenue has been returned by Action followed by Adventure movies (together making 26% of total revenue) which individually has less than the number of total movies produced under 'Drama' viz. Drama 44% vs Action 22% and Adventure 13%.\n",
    "\n",
    "#### Movie rating related conclusions\n",
    "- More than 53% of the total movies have a high rating in which Documentary genre has the highest vote average of 6.9. Number of Documentary movies produced are very less compared to the other popular genres (only 8% in our dataset) but 90% of these Documentary are rated high. On the otehr hand, Drama, Comedy, Action, Thriller are the most produced genres and all of these genres also have more than 50% of the movies rated high.\n",
    "\n",
    "- We have been able to list down the top 10 production companies, directors, and cast that have historically returned the hightest revenue and also has given the high rated movies. This can be leveraged for the success of future movies.\n",
    "\n",
    "    - Movie rating seems to be higher for the Directors with highest number of movies directed e.g. Woody Allen, Martin Scorsese, Steven Spielberg, Clint Eastwood, and Ridley Soctt were in the top 5 list of movies directed and all of them had  ~80% of the movies rated high.\n",
    "\n",
    "    - Robert De Niro, Michael Caine, and Samuel L. Jackson are the only 3 actors who made it to the top 10 list of number of total movies acted in and number of high rated movies out of those (50% and higher).\n",
    "\n",
    "    - Warner Bros., Universal, and Paramount emerged as the top 3 production companies in terms of revenue returned,  total movies produced, and the highest number of movies produced (with each having ~60% of their produced movies as high rated). Walt Disney which was 5th on the list of revenue returned was apparently 2nd on the list of high rated movies with 2.5x less movies produced by Warner Bros.\n",
    "\n",
    "#### Movie genre, and popularity yearly trend conclusions\n",
    "- While watching the yearly trend, irrespective of the few dips and peaks the overall number of released movies continue to increase tremedously from 78 movies in 1960 to 1388 in 2015 (growth of 1600%). One significant dip is seen in 2009 which can be related to the 2008 market crash impacting the whole economy including the movie industry. As the number of movies increases over years, we see an equal amount of increased number of movies (growth of 1500-1900%) for the top 3 produced genres 'Drama', 'Comedy', 'Action'.\n",
    "\n",
    "- In the yearly trend, we also noticed a trend for movie popularity which was high in the begining in 1961 following a drop and then after few dips and peaks was the highest in 2015. The most popular genre over years has been Adventure which aligns with our conclusion from Question 1 and 2 where Adventure returned the 2nd highest revenue even with just ~13% of the total movies and had ~53% of those rated high rated movies."
   ]
  },
  {
   "cell_type": "markdown",
   "metadata": {},
   "source": [
    "### Sources\n",
    "> Few weblinks used in addition to the course lecture"
   ]
  },
  {
   "cell_type": "markdown",
   "metadata": {},
   "source": [
    "- https://stackoverflow.com/questions/38345213/using-value-counts-in-pandas-with-condtions\n",
    "- https://stackoverflow.com/questions/41571591/count-the-number-of-elements-in-a-string-separated-by-comma\n",
    "- https://mikulskibartosz.name/how-to-split-a-list-inside-a-dataframe-cell-into-rows-in-pandas-9849d8ff2401\n",
    "- https://www.geeksforgeeks.org/python-pandas-melt/\n",
    "- https://pandas.pydata.org/pandas-docs/version/0.17.0/generated/pandas.DataFrame.nlargest.html\n",
    "- https://stackoverflow.com/questions/332289/how-do-you-change-the-size-of-figures-drawn-with-matplotlib"
   ]
  }
 ],
 "metadata": {
  "kernelspec": {
   "display_name": "Python 3",
   "language": "python",
   "name": "python3"
  },
  "language_info": {
   "codemirror_mode": {
    "name": "ipython",
    "version": 3
   },
   "file_extension": ".py",
   "mimetype": "text/x-python",
   "name": "python",
   "nbconvert_exporter": "python",
   "pygments_lexer": "ipython3",
   "version": "3.6.8"
  }
 },
 "nbformat": 4,
 "nbformat_minor": 2
}
